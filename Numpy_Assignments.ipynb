{
 "cells": [
  {
   "cell_type": "markdown",
   "metadata": {},
   "source": [
    "Import the numpy package under the name np"
   ]
  },
  {
   "cell_type": "code",
   "execution_count": 1,
   "metadata": {},
   "outputs": [],
   "source": [
    "import numpy as np\n"
   ]
  },
  {
   "cell_type": "markdown",
   "metadata": {},
   "source": [
    "Print the numpy version and the configuration"
   ]
  },
  {
   "cell_type": "code",
   "execution_count": 2,
   "metadata": {},
   "outputs": [
    {
     "name": "stdout",
     "output_type": "stream",
     "text": [
      "Numpy Version: 1.26.2\n",
      "Numpy Configuration:\n",
      "{\n",
      "  \"Compilers\": {\n",
      "    \"c\": {\n",
      "      \"name\": \"msvc\",\n",
      "      \"linker\": \"link\",\n",
      "      \"version\": \"19.29.30153\",\n",
      "      \"commands\": \"cl.exe\"\n",
      "    },\n",
      "    \"cython\": {\n",
      "      \"name\": \"cython\",\n",
      "      \"linker\": \"cython\",\n",
      "      \"version\": \"3.0.0\",\n",
      "      \"commands\": \"cython\"\n",
      "    },\n",
      "    \"c++\": {\n",
      "      \"name\": \"msvc\",\n",
      "      \"linker\": \"link\",\n",
      "      \"version\": \"19.29.30153\",\n",
      "      \"commands\": \"cl.exe\"\n",
      "    }\n",
      "  },\n",
      "  \"Machine Information\": {\n",
      "    \"host\": {\n",
      "      \"cpu\": \"x86_64\",\n",
      "      \"family\": \"x86_64\",\n",
      "      \"endian\": \"little\",\n",
      "      \"system\": \"windows\"\n",
      "    },\n",
      "    \"build\": {\n",
      "      \"cpu\": \"x86_64\",\n",
      "      \"family\": \"x86_64\",\n",
      "      \"endian\": \"little\",\n",
      "      \"system\": \"windows\"\n",
      "    }\n",
      "  },\n",
      "  \"Build Dependencies\": {\n",
      "    \"blas\": {\n",
      "      \"name\": \"mkl-sdl\",\n",
      "      \"found\": true,\n",
      "      \"version\": \"2023.1\",\n",
      "      \"detection method\": \"pkgconfig\",\n",
      "      \"include directory\": \"C:/Users/Administrator/miniconda3/envs/arewadatascience/Library/include\",\n",
      "      \"lib directory\": \"C:/Users/Administrator/miniconda3/envs/arewadatascience/Library/lib\",\n",
      "      \"openblas configuration\": \"unknown\",\n",
      "      \"pc file directory\": \"C:\\\\b\\\\abs_7267ja_mqz\\\\croot\\\\numpy_and_numpy_base_1701295083047\\\\_h_env\\\\Library\\\\lib\\\\pkgconfig\"\n",
      "    },\n",
      "    \"lapack\": {\n",
      "      \"name\": \"dep2514409953744\",\n",
      "      \"found\": true,\n",
      "      \"version\": \"1.26.2\",\n",
      "      \"detection method\": \"internal\",\n",
      "      \"include directory\": \"unknown\",\n",
      "      \"lib directory\": \"unknown\",\n",
      "      \"openblas configuration\": \"unknown\",\n",
      "      \"pc file directory\": \"unknown\"\n",
      "    }\n",
      "  },\n",
      "  \"Python Information\": {\n",
      "    \"path\": \"C:\\\\b\\\\abs_7267ja_mqz\\\\croot\\\\numpy_and_numpy_base_1701295083047\\\\_h_env\\\\python.exe\",\n",
      "    \"version\": \"3.12\"\n",
      "  },\n",
      "  \"SIMD Extensions\": {\n",
      "    \"baseline\": [\n",
      "      \"SSE\",\n",
      "      \"SSE2\",\n",
      "      \"SSE3\"\n",
      "    ],\n",
      "    \"found\": [\n",
      "      \"SSSE3\",\n",
      "      \"SSE41\",\n",
      "      \"POPCNT\",\n",
      "      \"SSE42\",\n",
      "      \"AVX\",\n",
      "      \"F16C\",\n",
      "      \"FMA3\",\n",
      "      \"AVX2\"\n",
      "    ],\n",
      "    \"not found\": [\n",
      "      \"AVX512F\",\n",
      "      \"AVX512CD\",\n",
      "      \"AVX512_SKX\",\n",
      "      \"AVX512_CLX\",\n",
      "      \"AVX512_CNL\",\n",
      "      \"AVX512_ICL\"\n",
      "    ]\n",
      "  }\n",
      "}\n",
      "None\n"
     ]
    },
    {
     "name": "stderr",
     "output_type": "stream",
     "text": [
      "c:\\Users\\Administrator\\miniconda3\\envs\\arewadatascience\\Lib\\site-packages\\numpy\\__config__.py:149: UserWarning: Install `pyyaml` for better output\n",
      "  warnings.warn(\"Install `pyyaml` for better output\", stacklevel=1)\n"
     ]
    }
   ],
   "source": [
    "import numpy as np\n",
    "\n",
    "print(\"Numpy Version:\", np.__version__)\n",
    "print(\"Numpy Configuration:\")\n",
    "print(np.show_config())\n"
   ]
  },
  {
   "cell_type": "markdown",
   "metadata": {},
   "source": [
    "Create a null vector of size 10"
   ]
  },
  {
   "cell_type": "code",
   "execution_count": 4,
   "metadata": {},
   "outputs": [
    {
     "name": "stdout",
     "output_type": "stream",
     "text": [
      "[0. 0. 0. 0. 0. 0. 0. 0. 0. 0.]\n"
     ]
    }
   ],
   "source": [
    "import numpy as np\n",
    "\n",
    "n_vector = np.zeros(10)\n",
    "print(n_vector)\n"
   ]
  },
  {
   "cell_type": "markdown",
   "metadata": {},
   "source": [
    "How to find the memory size of any array"
   ]
  },
  {
   "cell_type": "code",
   "execution_count": 5,
   "metadata": {},
   "outputs": [
    {
     "name": "stdout",
     "output_type": "stream",
     "text": [
      "Memory size of the array: 20 bytes\n"
     ]
    }
   ],
   "source": [
    "import numpy as np\n",
    "\n",
    "# Create an array\n",
    "arr = np.array([1, 2, 3, 4, 5])\n",
    "\n",
    "# Find the memory size\n",
    "memory_size = arr.nbytes\n",
    "\n",
    "print(\"Memory size of the array:\", memory_size, \"bytes\")\n"
   ]
  },
  {
   "cell_type": "markdown",
   "metadata": {},
   "source": [
    "How to get the documentation of the numpy add function from the command line?"
   ]
  },
  {
   "cell_type": "markdown",
   "metadata": {},
   "source": [
    "Create a null vector of size 10 but the fifth value which is 1"
   ]
  },
  {
   "cell_type": "code",
   "execution_count": 6,
   "metadata": {},
   "outputs": [
    {
     "name": "stdout",
     "output_type": "stream",
     "text": [
      "[0. 0. 0. 0. 1. 0. 0. 0. 0. 0.]\n"
     ]
    }
   ],
   "source": [
    "import numpy as np\n",
    "\n",
    "null_vector = np.zeros(10)\n",
    "null_vector[4] = 1\n",
    "\n",
    "print(null_vector)\n"
   ]
  },
  {
   "cell_type": "markdown",
   "metadata": {},
   "source": [
    "Create a vector with values ranging from 10 to 49"
   ]
  },
  {
   "cell_type": "code",
   "execution_count": 7,
   "metadata": {},
   "outputs": [
    {
     "name": "stdout",
     "output_type": "stream",
     "text": [
      "[10 11 12 13 14 15 16 17 18 19 20 21 22 23 24 25 26 27 28 29 30 31 32 33\n",
      " 34 35 36 37 38 39 40 41 42 43 44 45 46 47 48 49]\n"
     ]
    }
   ],
   "source": [
    "import numpy as np\n",
    "\n",
    "vector = np.arange(10, 50)\n",
    "print(vector)\n"
   ]
  },
  {
   "cell_type": "markdown",
   "metadata": {},
   "source": [
    " Reverse a vector (first element becomes last)"
   ]
  },
  {
   "cell_type": "code",
   "execution_count": 8,
   "metadata": {},
   "outputs": [
    {
     "name": "stdout",
     "output_type": "stream",
     "text": [
      "[49 48 47 46 45 44 43 42 41 40 39 38 37 36 35 34 33 32 31 30 29 28 27 26\n",
      " 25 24 23 22 21 20 19 18 17 16 15 14 13 12 11 10]\n"
     ]
    }
   ],
   "source": [
    "reversed_vector = vector[::-1]\n",
    "print(reversed_vector)\n"
   ]
  },
  {
   "cell_type": "markdown",
   "metadata": {},
   "source": [
    "Create a 3x3 matrix with values ranging from 0 to 8"
   ]
  },
  {
   "cell_type": "code",
   "execution_count": 9,
   "metadata": {},
   "outputs": [
    {
     "name": "stdout",
     "output_type": "stream",
     "text": [
      "[[0 1 2]\n",
      " [3 4 5]\n",
      " [6 7 8]]\n"
     ]
    }
   ],
   "source": [
    "import numpy as np\n",
    "\n",
    "matrix = np.arange(9).reshape(3, 3)\n",
    "print(matrix)\n"
   ]
  },
  {
   "cell_type": "markdown",
   "metadata": {},
   "source": [
    "Find indices of non-zero elements from [1,2,0,0,4,0]"
   ]
  },
  {
   "cell_type": "code",
   "execution_count": 2,
   "metadata": {},
   "outputs": [
    {
     "name": "stdout",
     "output_type": "stream",
     "text": [
      "Elements of array arr is: [1 2 0 0 4 0]\n",
      "Non-zero elements of the array arr: [1 2 4]\n",
      "indices non-zero elements of array arr: (array([0, 1, 4], dtype=int64),)\n"
     ]
    }
   ],
   "source": [
    "import numpy as np\n",
    "\n",
    "'''arr=np.array([1,2,0,0,4,0])\n",
    "print(\"Elements of array arr is:\",arr )\n",
    "print(\"Is array arr contains non-zero elements:\" ,np.any(arr))'''\n",
    "\n",
    "arr=np.array([1,2,0,0,4,0])\n",
    "print(\"Elements of array arr is:\",arr )\n",
    "No_zero_ele =np.nonzero(arr)\n",
    "print(\"Non-zero elements of the array arr:\",arr[np.nonzero(arr)])\n",
    "print(\"indices non-zero elements of array arr:\",No_zero_ele )"
   ]
  },
  {
   "cell_type": "markdown",
   "metadata": {},
   "source": [
    "Create a 3x3 identity matrix"
   ]
  },
  {
   "cell_type": "code",
   "execution_count": 3,
   "metadata": {},
   "outputs": [
    {
     "name": "stdout",
     "output_type": "stream",
     "text": [
      "[[1. 0. 0.]\n",
      " [0. 1. 0.]\n",
      " [0. 0. 1.]]\n"
     ]
    }
   ],
   "source": [
    "import numpy as np\n",
    "\n",
    "i_matrix = np.eye(3)\n",
    "print(i_matrix)\n"
   ]
  },
  {
   "cell_type": "markdown",
   "metadata": {},
   "source": [
    "Create a 3x3x3 array with random values"
   ]
  },
  {
   "cell_type": "code",
   "execution_count": 5,
   "metadata": {},
   "outputs": [
    {
     "name": "stdout",
     "output_type": "stream",
     "text": [
      "[[[0.12693413 0.49381772 0.04902207]\n",
      "  [0.14062798 0.43269522 0.58320315]\n",
      "  [0.92643806 0.97569955 0.51996709]]\n",
      "\n",
      " [[0.69411651 0.55679996 0.65688005]\n",
      "  [0.84072972 0.76573622 0.38932305]\n",
      "  [0.74551745 0.77215531 0.61292318]]\n",
      "\n",
      " [[0.16976265 0.06451953 0.67512418]\n",
      "  [0.43375784 0.72108509 0.83981372]\n",
      "  [0.16351687 0.53004099 0.34410989]]]\n"
     ]
    }
   ],
   "source": [
    "import numpy as np\n",
    "\n",
    "arr = np.random.rand(3, 3, 3)\n",
    "print(arr)\n"
   ]
  },
  {
   "cell_type": "markdown",
   "metadata": {},
   "source": [
    "Create a 10x10 array with random values and find the minimum and maximum values"
   ]
  },
  {
   "cell_type": "code",
   "execution_count": 8,
   "metadata": {},
   "outputs": [
    {
     "name": "stdout",
     "output_type": "stream",
     "text": [
      "[[0.30526894 0.11639061 0.63892729 0.84632996 0.04858464 0.78900305\n",
      "  0.55692008 0.87444174 0.03702647 0.89019205]\n",
      " [0.33570597 0.79614245 0.90859058 0.43514676 0.97324435 0.76157976\n",
      "  0.09068936 0.22616824 0.89306922 0.77791367]\n",
      " [0.20767048 0.74043809 0.59123003 0.65211408 0.47519938 0.23625395\n",
      "  0.60022452 0.56525003 0.04564811 0.01744112]\n",
      " [0.43761889 0.91169507 0.64375808 0.18724672 0.9960855  0.56424763\n",
      "  0.91261412 0.14024963 0.63456674 0.09960344]\n",
      " [0.24756833 0.37806268 0.39446677 0.11076914 0.43354331 0.10507483\n",
      "  0.0545226  0.70654062 0.89691784 0.10522198]\n",
      " [0.32738225 0.53747775 0.62625242 0.21709438 0.840725   0.8490383\n",
      "  0.68669582 0.96042351 0.65909543 0.18841251]\n",
      " [0.43832431 0.76557281 0.90722116 0.55625866 0.28481037 0.48324952\n",
      "  0.30190915 0.48695104 0.94117468 0.66853657]\n",
      " [0.98927147 0.54239301 0.89316984 0.02664668 0.81505523 0.97901721\n",
      "  0.12080957 0.50349604 0.68600126 0.22699601]\n",
      " [0.64869657 0.66650226 0.0409895  0.23673672 0.85679195 0.62440313\n",
      "  0.85946891 0.67809196 0.46525103 0.89333803]\n",
      " [0.23694314 0.06353157 0.68541546 0.36947051 0.1620325  0.89028582\n",
      "  0.39094167 0.38916931 0.77914757 0.58772831]]\n",
      "Minimum value: 0.017441122582061097\n",
      "Maximum value: 0.9960855002281532\n"
     ]
    }
   ],
   "source": [
    "import numpy as np\n",
    "\n",
    "# Create a 10x10 array with random values\n",
    "arr = np.random.rand(10, 10)\n",
    "print(arr)\n",
    "\n",
    "# Find the minimum and maximum values\n",
    "min_value = np.min(arr)\n",
    "max_value = np.max(arr)\n",
    "\n",
    "print(\"Minimum value:\", min_value)\n",
    "print(\"Maximum value:\", max_value)\n"
   ]
  },
  {
   "cell_type": "markdown",
   "metadata": {},
   "source": [
    "Create a random vector of size 30 and find the mean value"
   ]
  },
  {
   "cell_type": "code",
   "execution_count": 9,
   "metadata": {},
   "outputs": [
    {
     "name": "stdout",
     "output_type": "stream",
     "text": [
      "Mean value: 0.49129532652075386\n"
     ]
    }
   ],
   "source": [
    "import numpy as np\n",
    "\n",
    "# Create a random vector of size 30\n",
    "random_vector = np.random.rand(30)\n",
    "\n",
    "# Find the mean value\n",
    "mean_value = np.mean(random_vector)\n",
    "\n",
    "print(\"Mean value:\", mean_value)\n"
   ]
  },
  {
   "cell_type": "markdown",
   "metadata": {},
   "source": [
    "15. Create a 2d array with 1 on the border and 0 inside"
   ]
  },
  {
   "cell_type": "code",
   "execution_count": 31,
   "metadata": {},
   "outputs": [
    {
     "name": "stdout",
     "output_type": "stream",
     "text": [
      "[[0. 0. 0. 0. 0. 0. 0.]\n",
      " [0. 1. 1. 1. 1. 1. 0.]\n",
      " [0. 1. 1. 1. 1. 1. 0.]\n",
      " [0. 1. 1. 1. 1. 1. 0.]\n",
      " [0. 1. 1. 1. 1. 1. 0.]\n",
      " [0. 1. 1. 1. 1. 1. 0.]\n",
      " [0. 0. 0. 0. 0. 0. 0.]]\n"
     ]
    }
   ],
   "source": [
    "import numpy as np\n",
    "\n",
    "\n",
    "arr = np.ones((5,5))\n",
    "arr = np.pad(arr, pad_width=1, mode='constant', constant_values=0)\n",
    "\n",
    "print(arr)\n"
   ]
  },
  {
   "cell_type": "markdown",
   "metadata": {},
   "source": [
    "16. How to add a border (filled with 0's) around an existing array?"
   ]
  },
  {
   "cell_type": "code",
   "execution_count": 33,
   "metadata": {},
   "outputs": [
    {
     "name": "stdout",
     "output_type": "stream",
     "text": [
      "[[0 0 0 0 0]\n",
      " [0 1 2 3 0]\n",
      " [0 4 5 6 0]\n",
      " [0 7 8 9 0]\n",
      " [0 0 0 0 0]]\n"
     ]
    }
   ],
   "source": [
    "import numpy as np\n",
    "\n",
    "# Existing array\n",
    "arr = np.array([[1, 2, 3], [4, 5, 6], [7, 8, 9]])\n",
    "\n",
    "# Add border filled with 0's\n",
    "arr = np.pad(arr, pad_width=1, mode='constant', constant_values=0)\n",
    "\n",
    "print(arr)\n"
   ]
  },
  {
   "cell_type": "markdown",
   "metadata": {},
   "source": [
    "17. What is the result of the following expression?"
   ]
  },
  {
   "cell_type": "code",
   "execution_count": 37,
   "metadata": {},
   "outputs": [
    {
     "data": {
      "text/plain": [
       "False"
      ]
     },
     "execution_count": 37,
     "metadata": {},
     "output_type": "execute_result"
    }
   ],
   "source": [
    "import numpy as np\n",
    "0 * np.nan\n",
    "np.nan == np.nan\n",
    "np.inf > np.nan\n",
    "np.nan - np.nan\n",
    "np.nan in set([np.nan])\n",
    "0.3 == 3 * 0.1"
   ]
  },
  {
   "cell_type": "markdown",
   "metadata": {},
   "source": [
    "Create a 5x5 matrix with values 1,2,3,4 just below the diagonal"
   ]
  },
  {
   "cell_type": "code",
   "execution_count": 45,
   "metadata": {},
   "outputs": [
    {
     "name": "stdout",
     "output_type": "stream",
     "text": [
      "[[0 0 0 0 0]\n",
      " [1 0 0 0 0]\n",
      " [0 2 0 0 0]\n",
      " [0 0 3 0 0]\n",
      " [0 0 0 4 0]]\n"
     ]
    }
   ],
   "source": [
    "import numpy as np\n",
    "\n",
    "m = np.diag([1, 2, 3, 4], k=-1)\n",
    "print(m)\n"
   ]
  },
  {
   "cell_type": "markdown",
   "metadata": {},
   "source": [
    "Create a 8x8 matrix and fill it with a checkerboard pattern"
   ]
  },
  {
   "cell_type": "code",
   "execution_count": 48,
   "metadata": {},
   "outputs": [
    {
     "name": "stdout",
     "output_type": "stream",
     "text": [
      "[[0. 1. 0. 1. 0. 1. 0. 1.]\n",
      " [1. 0. 1. 0. 1. 0. 1. 0.]\n",
      " [0. 1. 0. 1. 0. 1. 0. 1.]\n",
      " [1. 0. 1. 0. 1. 0. 1. 0.]\n",
      " [0. 1. 0. 1. 0. 1. 0. 1.]\n",
      " [1. 0. 1. 0. 1. 0. 1. 0.]\n",
      " [0. 1. 0. 1. 0. 1. 0. 1.]\n",
      " [1. 0. 1. 0. 1. 0. 1. 0.]]\n"
     ]
    }
   ],
   "source": [
    "import numpy as np\n",
    "\n",
    "mt = np.zeros((8, 8))\n",
    "mt[1::2, ::2] = 1\n",
    "mt[::2, 1::2] = 1\n",
    "\n",
    "print(mt)\n"
   ]
  },
  {
   "cell_type": "markdown",
   "metadata": {},
   "source": [
    "Consider a (6,7,8) shape array, what is the index (x,y,z) of the 100th element?"
   ]
  },
  {
   "cell_type": "code",
   "execution_count": 49,
   "metadata": {},
   "outputs": [
    {
     "name": "stdout",
     "output_type": "stream",
     "text": [
      "Index (x, y, z) of the 100th element: (1, 5, 3)\n"
     ]
    }
   ],
   "source": [
    "import numpy as np\n",
    "\n",
    "shape = (6, 7, 8)\n",
    "index_100 = np.unravel_index(99, shape)\n",
    "\n",
    "print(\"Index (x, y, z) of the 100th element:\", index_100)\n"
   ]
  },
  {
   "cell_type": "markdown",
   "metadata": {},
   "source": [
    "Create a checkerboard 8x8 matrix using the tile function"
   ]
  },
  {
   "cell_type": "code",
   "execution_count": 53,
   "metadata": {},
   "outputs": [
    {
     "name": "stdout",
     "output_type": "stream",
     "text": [
      "[[0 1 0 1 0 1 0 1]\n",
      " [1 0 1 0 1 0 1 0]\n",
      " [0 1 0 1 0 1 0 1]\n",
      " [1 0 1 0 1 0 1 0]\n",
      " [0 1 0 1 0 1 0 1]\n",
      " [1 0 1 0 1 0 1 0]\n",
      " [0 1 0 1 0 1 0 1]\n",
      " [1 0 1 0 1 0 1 0]]\n"
     ]
    }
   ],
   "source": [
    "import numpy as np\n",
    "\n",
    "\n",
    "tile = np.array([[0, 1], [1, 0]])\n",
    "cb = np.tile(tile, (4, 4))\n",
    "\n",
    "print(cb)\n"
   ]
  },
  {
   "cell_type": "markdown",
   "metadata": {},
   "source": [
    "Normalize a 5x5 random matrix"
   ]
  },
  {
   "cell_type": "code",
   "execution_count": 3,
   "metadata": {},
   "outputs": [
    {
     "name": "stdout",
     "output_type": "stream",
     "text": [
      "[[0.75660908 0.43914236 0.16413115 0.13390694 0.43569093]\n",
      " [0.51145843 0.4040846  0.59026309 0.44783991 0.16172449]\n",
      " [0.42105228 0.3640624  0.5457537  0.59907741 0.18284612]\n",
      " [0.6047449  0.09698108 0.34175996 0.50622042 0.50181599]\n",
      " [0.12699218 0.69766917 0.43548413 0.39209633 0.39210299]]\n"
     ]
    }
   ],
   "source": [
    "from sklearn.preprocessing import normalize\n",
    "import numpy as np\n",
    "\n",
    "# Create a 5x5 random matrix\n",
    "matrix = np.random.rand(5, 5)\n",
    "\n",
    "# Normalize the matrix\n",
    "normalized_matrix = normalize(matrix)\n",
    "\n",
    "print(normalized_matrix)\n"
   ]
  },
  {
   "cell_type": "markdown",
   "metadata": {},
   "source": [
    "Create a custom dtype that describes a color as four unsigned bytes (RGBA)"
   ]
  },
  {
   "cell_type": "code",
   "execution_count": 3,
   "metadata": {},
   "outputs": [
    {
     "name": "stdout",
     "output_type": "stream",
     "text": [
      "[(255, 0, 0, 255)]\n"
     ]
    }
   ],
   "source": [
    "import numpy as np\n",
    "\n",
    "# Create the custom dtype\n",
    "color_dtype = np.dtype([('R', np.uint8), ('G', np.uint8), ('B', np.uint8), ('A', np.uint8)])\n",
    "\n",
    "# Example usage\n",
    "color = np.array([(255, 0, 0, 255)], dtype=color_dtype)\n",
    "print(color)\n"
   ]
  },
  {
   "cell_type": "markdown",
   "metadata": {},
   "source": [
    "24. Multiply a 5x3 matrix by a 3x2 matrix (real matrix product)"
   ]
  },
  {
   "cell_type": "code",
   "execution_count": 5,
   "metadata": {},
   "outputs": [
    {
     "name": "stdout",
     "output_type": "stream",
     "text": [
      "[[1.42617001 1.24193318]\n",
      " [1.34788184 1.47911396]\n",
      " [1.34292602 1.19240974]\n",
      " [0.46256623 0.50611363]\n",
      " [1.06061382 1.24235962]]\n"
     ]
    }
   ],
   "source": [
    "import numpy as np\n",
    "\n",
    "mx1 = np.random.rand(5, 3)\n",
    "mx2 = np.random.rand(3, 2)\n",
    "result = np.dot(mx1, mx2)\n",
    "\n",
    "print(result)\n"
   ]
  },
  {
   "cell_type": "markdown",
   "metadata": {},
   "source": [
    "25. Given a 1D array, negate all elements which are between 3 and 8, in place"
   ]
  },
  {
   "cell_type": "code",
   "execution_count": 10,
   "metadata": {},
   "outputs": [
    {
     "name": "stdout",
     "output_type": "stream",
     "text": [
      "[ 1  2  3 -4 -5 -6 -7  8  9 10]\n"
     ]
    }
   ],
   "source": [
    "import numpy as np\n",
    "\n",
    "\n",
    "arr = np.array([1, 2, 3, 4, 5, 6, 7, 8, 9, 10])\n",
    "arr[(arr > 3) & (arr < 8)] *= -1\n",
    "\n",
    "print(arr)\n"
   ]
  },
  {
   "cell_type": "code",
   "execution_count": 11,
   "metadata": {},
   "outputs": [
    {
     "name": "stdout",
     "output_type": "stream",
     "text": [
      "9\n",
      "10\n"
     ]
    }
   ],
   "source": [
    "print(sum(range(5),-1))\n",
    "from numpy import *\n",
    "print(sum(range(5),-1))"
   ]
  },
  {
   "cell_type": "markdown",
   "metadata": {},
   "source": [
    "27. Consider an integer vector Z, which of these expressions are legal?.\\\n",
    "Z**Z.\\\n",
    "2 << Z >> 2.\\\n",
    "Z <- Z.\\\n",
    "1j*Z.\\\n",
    "Z/1/1.\\\n",
    "Z<Z>Z"
   ]
  },
  {
   "cell_type": "markdown",
   "metadata": {},
   "source": [
    "'''The following expressions are not legal:.\\\n",
    "\n",
    "2 << Z >> 2: The left shift and right shift operators (<< and >>) are not defined for arrays or vectors..\\\n",
    "1j * Z: The complex multiplication operator (*) is not defined for arrays or vectors.'''"
   ]
  },
  {
   "cell_type": "markdown",
   "metadata": {},
   "source": [
    "1.  What are the result of the following expressions?.\\\n",
    "np.array(0) / np.array(0).\\\n",
    "np.array(0) // np.array(0).\\\n",
    "np.array([np.nan]).astype(int).astype(float)"
   ]
  },
  {
   "cell_type": "code",
   "execution_count": 3,
   "metadata": {},
   "outputs": [
    {
     "name": "stdout",
     "output_type": "stream",
     "text": [
      "The result of the expressions are:\n"
     ]
    },
    {
     "name": "stderr",
     "output_type": "stream",
     "text": [
      "C:\\Users\\Administrator\\AppData\\Local\\Temp\\ipykernel_10476\\2426853172.py:4: RuntimeWarning: invalid value encountered in divide\n",
      "  np.array(0) / np.array(0)\n",
      "C:\\Users\\Administrator\\AppData\\Local\\Temp\\ipykernel_10476\\2426853172.py:5: RuntimeWarning: divide by zero encountered in floor_divide\n",
      "  np.array(0) // np.array(0)\n",
      "C:\\Users\\Administrator\\AppData\\Local\\Temp\\ipykernel_10476\\2426853172.py:6: RuntimeWarning: invalid value encountered in cast\n",
      "  np.array([np.nan]).astype(int).astype(float)\n"
     ]
    },
    {
     "data": {
      "text/plain": [
       "array([-2.14748365e+09])"
      ]
     },
     "execution_count": 3,
     "metadata": {},
     "output_type": "execute_result"
    }
   ],
   "source": [
    "import numpy as np\n",
    "\n",
    "print('The result of the expressions are:')\n",
    "np.array(0) / np.array(0)\n",
    "np.array(0) // np.array(0)\n",
    "np.array([np.nan]).astype(int).astype(float)"
   ]
  },
  {
   "cell_type": "markdown",
   "metadata": {},
   "source": [
    "29. How to round away from zero a float array ?"
   ]
  },
  {
   "cell_type": "code",
   "execution_count": 5,
   "metadata": {},
   "outputs": [
    {
     "name": "stdout",
     "output_type": "stream",
     "text": [
      "[-1. -1. -0.  1.  2.  2.]\n"
     ]
    }
   ],
   "source": [
    "import numpy as np\n",
    "\n",
    "f_array = np.array([-1.5, -1.2, -0.8, 0.8, 1.2, 1.5])\n",
    "r_array = np.ceil(f_array)\n",
    "\n",
    "print(r_array)\n"
   ]
  },
  {
   "cell_type": "markdown",
   "metadata": {},
   "source": [
    "30. How to find common values between two arrays?"
   ]
  },
  {
   "cell_type": "code",
   "execution_count": 6,
   "metadata": {},
   "outputs": [
    {
     "name": "stdout",
     "output_type": "stream",
     "text": [
      "Common values: [4 5]\n"
     ]
    }
   ],
   "source": [
    "import numpy as np\n",
    "\n",
    "array1 = np.array([1, 2, 3, 4, 5])\n",
    "array2 = np.array([4, 5, 6, 7, 8])\n",
    "common_values = np.intersect1d(array1, array2)\n",
    "\n",
    "print(\"Common values:\", common_values)\n"
   ]
  },
  {
   "cell_type": "markdown",
   "metadata": {},
   "source": [
    "1.  Is the following expressions true?.\\\n",
    "np.sqrt(-1) == np.emath.sqrt(-1)"
   ]
  },
  {
   "cell_type": "code",
   "execution_count": 8,
   "metadata": {},
   "outputs": [
    {
     "name": "stderr",
     "output_type": "stream",
     "text": [
      "C:\\Users\\Administrator\\AppData\\Local\\Temp\\ipykernel_10476\\244602691.py:1: RuntimeWarning: invalid value encountered in sqrt\n",
      "  np.sqrt(-1) == np.emath.sqrt(-1)\n"
     ]
    },
    {
     "data": {
      "text/plain": [
       "False"
      ]
     },
     "execution_count": 8,
     "metadata": {},
     "output_type": "execute_result"
    }
   ],
   "source": [
    "np.sqrt(-1) == np.emath.sqrt(-1)"
   ]
  },
  {
   "cell_type": "markdown",
   "metadata": {},
   "source": [
    "33. How to get the dates of yesterday, today and tomorrow?"
   ]
  },
  {
   "cell_type": "code",
   "execution_count": 9,
   "metadata": {},
   "outputs": [
    {
     "name": "stdout",
     "output_type": "stream",
     "text": [
      "Yesterday: 2024-02-07\n",
      "Today: 2024-02-08\n",
      "Tomorrow: 2024-02-09\n"
     ]
    }
   ],
   "source": [
    "import datetime\n",
    "\n",
    "# Get today's date\n",
    "today = datetime.date.today()\n",
    "\n",
    "# Get yesterday's date\n",
    "yesterday = today - datetime.timedelta(days=1)\n",
    "\n",
    "# Get tomorrow's date\n",
    "tomorrow = today + datetime.timedelta(days=1)\n",
    "\n",
    "print(\"Yesterday:\", yesterday)\n",
    "print(\"Today:\", today)\n",
    "print(\"Tomorrow:\", tomorrow)\n"
   ]
  },
  {
   "cell_type": "markdown",
   "metadata": {},
   "source": [
    "34. How to get all the dates corresponding to the month of July 2016?"
   ]
  },
  {
   "cell_type": "code",
   "execution_count": 10,
   "metadata": {},
   "outputs": [
    {
     "name": "stdout",
     "output_type": "stream",
     "text": [
      "DatetimeIndex(['2016-07-01', '2016-07-02', '2016-07-03', '2016-07-04',\n",
      "               '2016-07-05', '2016-07-06', '2016-07-07', '2016-07-08',\n",
      "               '2016-07-09', '2016-07-10', '2016-07-11', '2016-07-12',\n",
      "               '2016-07-13', '2016-07-14', '2016-07-15', '2016-07-16',\n",
      "               '2016-07-17', '2016-07-18', '2016-07-19', '2016-07-20',\n",
      "               '2016-07-21', '2016-07-22', '2016-07-23', '2016-07-24',\n",
      "               '2016-07-25', '2016-07-26', '2016-07-27', '2016-07-28',\n",
      "               '2016-07-29', '2016-07-30', '2016-07-31'],\n",
      "              dtype='datetime64[ns]', freq='D')\n"
     ]
    }
   ],
   "source": [
    "import pandas as pd\n",
    "\n",
    "# Create a date range for the month of July 2016\n",
    "dates = pd.date_range(start='2016-07-01', end='2016-07-31')\n",
    "\n",
    "print(dates)\n"
   ]
  },
  {
   "cell_type": "markdown",
   "metadata": {},
   "source": [
    "36. Extract the integer part of a random array of positive numbers using 4 different methods"
   ]
  },
  {
   "cell_type": "code",
   "execution_count": 20,
   "metadata": {},
   "outputs": [
    {
     "name": "stdout",
     "output_type": "stream",
     "text": [
      "[3 8 4 0 3]\n"
     ]
    }
   ],
   "source": [
    "import numpy as np\n",
    "\n",
    "# Create a random array of positive numbers\n",
    "random_array = np.random.rand(5) * 10\n",
    "\n",
    "# Extract the integer part using astype() method\n",
    "integer_part = random_array.astype(int)\n",
    "\n",
    "print(integer_part)\n"
   ]
  },
  {
   "cell_type": "code",
   "execution_count": 19,
   "metadata": {},
   "outputs": [
    {
     "name": "stdout",
     "output_type": "stream",
     "text": [
      "[0. 1. 4. 1. 8.]\n"
     ]
    }
   ],
   "source": [
    "import numpy as np\n",
    "\n",
    "# Create a random array of positive numbers\n",
    "random_array = np.random.rand(5) * 10\n",
    "\n",
    "# Extract the integer part using the floor method\n",
    "integer_part = np.floor(random_array)\n",
    "\n",
    "print(integer_part)\n"
   ]
  },
  {
   "cell_type": "code",
   "execution_count": 21,
   "metadata": {},
   "outputs": [
    {
     "name": "stdout",
     "output_type": "stream",
     "text": [
      "[0. 4. 3. 8. 2.]\n"
     ]
    }
   ],
   "source": [
    "import numpy as np\n",
    "\n",
    "# Create a random array of positive numbers\n",
    "random_array = np.random.rand(5) * 10\n",
    "\n",
    "# Extract the integer part using the trunc function\n",
    "integer_part = np.trunc(random_array)\n",
    "\n",
    "print(integer_part)\n",
    "\n"
   ]
  },
  {
   "cell_type": "code",
   "execution_count": 22,
   "metadata": {},
   "outputs": [
    {
     "name": "stdout",
     "output_type": "stream",
     "text": [
      "[1 1 5 8 8]\n"
     ]
    }
   ],
   "source": [
    "import numpy as np\n",
    "\n",
    "# Create a random array of positive numbers\n",
    "random_array = np.random.rand(5) * 10\n",
    "\n",
    "# Extract the integer part using np.int function\n",
    "integer_part = np.int_(random_array)\n",
    "\n",
    "print(integer_part)\n"
   ]
  },
  {
   "cell_type": "markdown",
   "metadata": {},
   "source": [
    "37. Create a 5x5 matrix with row values ranging from 0 to 4"
   ]
  },
  {
   "cell_type": "code",
   "execution_count": 23,
   "metadata": {},
   "outputs": [
    {
     "name": "stdout",
     "output_type": "stream",
     "text": [
      "[[0 1 2 3 4]\n",
      " [0 1 2 3 4]\n",
      " [0 1 2 3 4]\n",
      " [0 1 2 3 4]\n",
      " [0 1 2 3 4]]\n"
     ]
    }
   ],
   "source": [
    "import numpy as np\n",
    "\n",
    "matrix = np.tile(np.arange(5), (5, 1))\n",
    "print(matrix)\n"
   ]
  },
  {
   "cell_type": "markdown",
   "metadata": {},
   "source": [
    "38. Consider a generator function that generates 10 integers and use it to build an array"
   ]
  },
  {
   "cell_type": "code",
   "execution_count": 24,
   "metadata": {},
   "outputs": [
    {
     "name": "stdout",
     "output_type": "stream",
     "text": [
      "[0 1 2 3 4 5 6 7 8 9]\n"
     ]
    }
   ],
   "source": [
    "import numpy as np\n",
    "\n",
    "# Define the generator function\n",
    "def generate_integers():\n",
    "    for i in range(10):\n",
    "        yield i\n",
    "\n",
    "# Build an array using the generator function\n",
    "array = np.fromiter(generate_integers(), dtype=int)\n",
    "\n",
    "print(array)\n"
   ]
  },
  {
   "cell_type": "markdown",
   "metadata": {},
   "source": [
    "39. Create a vector of size 10 with values ranging from 0 to 1, both excluded"
   ]
  },
  {
   "cell_type": "code",
   "execution_count": 28,
   "metadata": {},
   "outputs": [
    {
     "name": "stdout",
     "output_type": "stream",
     "text": [
      "[0.09090909 0.18181818 0.27272727 0.36363636 0.45454545 0.54545455\n",
      " 0.63636364 0.72727273 0.81818182 0.90909091]\n"
     ]
    }
   ],
   "source": [
    "import numpy as np\n",
    "\n",
    "vector = np.linspace(0, 1, 12)[1:-1]\n",
    "print(vector)\n"
   ]
  },
  {
   "cell_type": "markdown",
   "metadata": {},
   "source": [
    "40. Create a random vector of size 10 and sort it"
   ]
  },
  {
   "cell_type": "code",
   "execution_count": 29,
   "metadata": {},
   "outputs": [
    {
     "name": "stdout",
     "output_type": "stream",
     "text": [
      "[0.08054443 0.18523198 0.38139533 0.38690612 0.44043328 0.48004155\n",
      " 0.60746102 0.82010404 0.82664286 0.88184955]\n"
     ]
    }
   ],
   "source": [
    "import numpy as np\n",
    "\n",
    "# Create a random vector of size 10\n",
    "random_vector = np.random.rand(10)\n",
    "\n",
    "# Sort the vector\n",
    "sorted_vector = np.sort(random_vector)\n",
    "\n",
    "print(sorted_vector)\n"
   ]
  },
  {
   "cell_type": "markdown",
   "metadata": {},
   "source": [
    "How to sum a small array faster than np.sum?"
   ]
  },
  {
   "cell_type": "code",
   "execution_count": 1,
   "metadata": {},
   "outputs": [
    {
     "name": "stdout",
     "output_type": "stream",
     "text": [
      "Sum: 15\n"
     ]
    }
   ],
   "source": [
    "import numpy as np\n",
    "\n",
    "arr = np.array([1, 2, 3, 4, 5])\n",
    "sum_result = sum(arr)\n",
    "\n",
    "print(\"Sum:\", sum_result)\n"
   ]
  },
  {
   "cell_type": "markdown",
   "metadata": {},
   "source": [
    "42. Consider two random array A and B, check if they are equal"
   ]
  },
  {
   "cell_type": "code",
   "execution_count": 2,
   "metadata": {},
   "outputs": [
    {
     "name": "stdout",
     "output_type": "stream",
     "text": [
      "Are the arrays equal? False\n"
     ]
    }
   ],
   "source": [
    "import numpy as np\n",
    "\n",
    "# Create two random arrays\n",
    "A = np.random.rand(5)\n",
    "B = np.random.rand(5)\n",
    "\n",
    "# Check if the arrays are equal\n",
    "equal = np.array_equal(A, B)\n",
    "\n",
    "print(\"Are the arrays equal?\", equal)\n"
   ]
  },
  {
   "cell_type": "markdown",
   "metadata": {},
   "source": [
    "43. Make an array immutable (read-only)"
   ]
  },
  {
   "cell_type": "code",
   "execution_count": 7,
   "metadata": {},
   "outputs": [],
   "source": [
    "import numpy as np\n",
    "\n",
    "# Create an array\n",
    "arr = np.array([1, 2, 3, 4, 5])\n",
    "\n",
    "# Make the array read-only\n",
    "arr.flags.writeable = False\n",
    "\n",
    "# Try to modify the array (will raise an error)\n",
    "arr[0] = 10\n"
   ]
  },
  {
   "cell_type": "markdown",
   "metadata": {},
   "source": [
    "44. Consider a random 10x2 matrix representing cartesian coordinates, convert them to polar coordinates"
   ]
  },
  {
   "cell_type": "code",
   "execution_count": 8,
   "metadata": {},
   "outputs": [
    {
     "name": "stdout",
     "output_type": "stream",
     "text": [
      "Cartesian Coordinates:\n",
      "[[0.03860662 0.57961299]\n",
      " [0.51768089 0.19846126]\n",
      " [0.04857541 0.56912631]\n",
      " [0.94411919 0.1555117 ]\n",
      " [0.93782122 0.56062358]\n",
      " [0.20349283 0.93845465]\n",
      " [0.07333724 0.55350739]\n",
      " [0.94599581 0.33043552]\n",
      " [0.70775503 0.22946506]\n",
      " [0.36571109 0.59332849]]\n",
      "\n",
      "Polar Coordinates:\n",
      "[[0.58089732 1.50428698]\n",
      " [0.55441896 0.36608501]\n",
      " [0.57119553 1.48565183]\n",
      " [0.95684112 0.1632503 ]\n",
      " [1.09261495 0.53879562]\n",
      " [0.96026375 1.35726383]\n",
      " [0.55834468 1.43906808]\n",
      " [1.00204576 0.33605031]\n",
      " [0.74402379 0.31352206]\n",
      " [0.69698156 1.01842547]]\n"
     ]
    }
   ],
   "source": [
    "import numpy as np\n",
    "\n",
    "# Create a random 10x2 matrix representing cartesian coordinates\n",
    "cartesian_coords = np.random.rand(10, 2)\n",
    "\n",
    "# Convert cartesian coordinates to polar coordinates\n",
    "x = cartesian_coords[:, 0]\n",
    "y = cartesian_coords[:, 1]\n",
    "r = np.sqrt(x**2 + y**2)\n",
    "theta = np.arctan2(y, x)\n",
    "\n",
    "# Create a 10x2 matrix representing polar coordinates\n",
    "polar_coords = np.column_stack((r, theta))\n",
    "\n",
    "print(\"Cartesian Coordinates:\")\n",
    "print(cartesian_coords)\n",
    "print(\"\\nPolar Coordinates:\")\n",
    "print(polar_coords)\n"
   ]
  },
  {
   "cell_type": "markdown",
   "metadata": {},
   "source": [
    "45. Create random vector of size 10 and replace the maximum value by 0"
   ]
  },
  {
   "cell_type": "code",
   "execution_count": 10,
   "metadata": {},
   "outputs": [
    {
     "name": "stdout",
     "output_type": "stream",
     "text": [
      "[0.40610465 0.47006855 0.08662248 0.         0.74982152 0.16660943\n",
      " 0.04631832 0.61444527 0.8087169  0.36575479]\n"
     ]
    }
   ],
   "source": [
    "import numpy as np\n",
    "\n",
    "# Create a random vector of size 10\n",
    "random_vector = np.random.rand(10)\n",
    "\n",
    "# Find the maximum value\n",
    "max_value = np.max(random_vector)\n",
    "\n",
    "# Replace the maximum value with 0\n",
    "random_vector[random_vector == max_value] = 0\n",
    "\n",
    "print(random_vector)\n"
   ]
  },
  {
   "cell_type": "markdown",
   "metadata": {},
   "source": [
    "46. Create a structured array with x and y coordinates covering the [0,1]x[0,1] area"
   ]
  },
  {
   "cell_type": "code",
   "execution_count": 12,
   "metadata": {},
   "outputs": [
    {
     "name": "stdout",
     "output_type": "stream",
     "text": [
      "[(0.        , 0.        ) (0.11111111, 0.11111111)\n",
      " (0.22222222, 0.22222222) (0.33333333, 0.33333333)\n",
      " (0.44444444, 0.44444444) (0.55555556, 0.55555556)\n",
      " (0.66666667, 0.66666667) (0.77777778, 0.77777778)\n",
      " (0.88888889, 0.88888889) (1.        , 1.        )]\n"
     ]
    }
   ],
   "source": [
    "import numpy as np\n",
    "\n",
    "# Create a structured array with x and y coordinates\n",
    "coordinates = np.zeros((10,), dtype=[('x', float), ('y', float)])\n",
    "\n",
    "# Generate x and y coordinates covering the [0,1]x[0,1] area\n",
    "coordinates['x'] = np.linspace(0, 1, 10)\n",
    "coordinates['y'] = np.linspace(0, 1, 10)\n",
    "\n",
    "print(coordinates)\n"
   ]
  },
  {
   "cell_type": "markdown",
   "metadata": {},
   "source": [
    "47. Given two arrays, X and Y, construct the Cauchy matrix C (Cij =1/(xi - yj))"
   ]
  },
  {
   "cell_type": "code",
   "execution_count": 13,
   "metadata": {},
   "outputs": [
    {
     "name": "stdout",
     "output_type": "stream",
     "text": [
      "[[-0.33333333 -0.25       -0.2       ]\n",
      " [-0.5        -0.33333333 -0.25      ]\n",
      " [-1.         -0.5        -0.33333333]]\n"
     ]
    }
   ],
   "source": [
    "import numpy as np\n",
    "\n",
    "# Example arrays\n",
    "X = np.array([1, 2, 3])\n",
    "Y = np.array([4, 5, 6])\n",
    "\n",
    "# Construct the Cauchy matrix\n",
    "C = 1 / (X[:, np.newaxis] - Y)\n",
    "\n",
    "print(C)\n"
   ]
  },
  {
   "cell_type": "markdown",
   "metadata": {},
   "source": [
    "48. Print the minimum and maximum representable value for each numpy scalar type"
   ]
  },
  {
   "cell_type": "code",
   "execution_count": null,
   "metadata": {},
   "outputs": [],
   "source": [
    "import numpy as np\n",
    "\n",
    "# List of numpy scalar types\n",
    "scalar_types = [np.bool_, np.int8, np.int16, np.int32, np.int64, np.uint8, np.uint16, np.uint32, np.uint64,\n",
    "                np.float16, np.float32, np.float64, np.complex64, np.complex128]\n",
    "\n",
    "# Iterate over the scalar types and print the minimum and maximum values\n",
    "for scalar_type in scalar_types:\n",
    "    min_value = np.iinfo(scalar_type).min if np.issubdtype(scalar_type, np.integer) else np.finfo(scalar_type).min\n",
    "    max_value = np.iinfo(scalar_type).max if np.issubdtype(scalar_type, np.integer) else np.finfo(scalar_type).max\n",
    "    print(f\"{scalar_type.__name__}: Minimum = {min_value}, Maximum = {max_value}\")\n"
   ]
  },
  {
   "cell_type": "markdown",
   "metadata": {},
   "source": [
    "49. How to print all the values of an array?"
   ]
  },
  {
   "cell_type": "code",
   "execution_count": 16,
   "metadata": {},
   "outputs": [
    {
     "name": "stdout",
     "output_type": "stream",
     "text": [
      "[1 2 3 4 5]\n"
     ]
    }
   ],
   "source": [
    "import numpy as np\n",
    "\n",
    "# Create an array\n",
    "arr = np.array([1, 2, 3, 4, 5])\n",
    "\n",
    "# Print all the values of the array\n",
    "print(arr)\n"
   ]
  },
  {
   "cell_type": "markdown",
   "metadata": {},
   "source": [
    "50. How to find the closest value (to a given scalar) in a vector?"
   ]
  },
  {
   "cell_type": "code",
   "execution_count": 17,
   "metadata": {},
   "outputs": [
    {
     "name": "stdout",
     "output_type": "stream",
     "text": [
      "Closest value: 3\n"
     ]
    }
   ],
   "source": [
    "import numpy as np\n",
    "\n",
    "# Given scalar\n",
    "scalar = 3.5\n",
    "\n",
    "# Vector\n",
    "vector = np.array([1, 2, 3, 4, 5])\n",
    "\n",
    "# Calculate the absolute difference\n",
    "abs_diff = np.abs(vector - scalar)\n",
    "\n",
    "# Find the index of the element with the smallest absolute difference\n",
    "closest_index = np.argmin(abs_diff)\n",
    "\n",
    "# Get the closest value\n",
    "closest_value = vector[closest_index]\n",
    "\n",
    "print(\"Closest value:\", closest_value)\n"
   ]
  },
  {
   "cell_type": "markdown",
   "metadata": {},
   "source": [
    "51. Create a structured array representing a position (x,y) and a color (r,g,b)"
   ]
  },
  {
   "cell_type": "code",
   "execution_count": 1,
   "metadata": {},
   "outputs": [
    {
     "name": "stdout",
     "output_type": "stream",
     "text": [
      "[((10., 20.), (255, 0, 0))]\n"
     ]
    }
   ],
   "source": [
    "import numpy as np\n",
    "\n",
    "# Define the structured array dtype\n",
    "dtype = [('position', [('x', float), ('y', float)]), ('color', [('r', int), ('g', int), ('b', int)])]\n",
    "\n",
    "# Create an empty structured array\n",
    "structured_array = np.empty((1,), dtype=dtype)\n",
    "\n",
    "# Set the values for position and color\n",
    "structured_array['position']['x'] = 10.0\n",
    "structured_array['position']['y'] = 20.0\n",
    "structured_array['color']['r'] = 255\n",
    "structured_array['color']['g'] = 0\n",
    "structured_array['color']['b'] = 0\n",
    "\n",
    "print(structured_array)\n"
   ]
  },
  {
   "cell_type": "markdown",
   "metadata": {},
   "source": [
    "52. Consider a random vector with shape (100,2) representing coordinates, find point by point distances"
   ]
  },
  {
   "cell_type": "code",
   "execution_count": 2,
   "metadata": {},
   "outputs": [
    {
     "name": "stdout",
     "output_type": "stream",
     "text": [
      "[[0.         0.0492764  0.7449522  ... 0.80544518 0.35052027 0.35839322]\n",
      " [0.0492764  0.         0.75775074 ... 0.8187696  0.39765268 0.37928626]\n",
      " [0.7449522  0.75775074 0.         ... 0.06139577 0.84979649 0.3937896 ]\n",
      " ...\n",
      " [0.80544518 0.8187696  0.06139577 ... 0.         0.90106557 0.45263103]\n",
      " [0.35052027 0.39765268 0.84979649 ... 0.90106557 0.         0.48591936]\n",
      " [0.35839322 0.37928626 0.3937896  ... 0.45263103 0.48591936 0.        ]]\n"
     ]
    }
   ],
   "source": [
    "import numpy as np\n",
    "from scipy.spatial.distance import cdist\n",
    "\n",
    "# Create a random vector with shape (100, 2)\n",
    "random_vector = np.random.rand(100, 2)\n",
    "\n",
    "# Calculate the point-by-point distances\n",
    "distances = cdist(random_vector, random_vector)\n",
    "\n",
    "print(distances)\n"
   ]
  },
  {
   "cell_type": "markdown",
   "metadata": {},
   "source": [
    "53. How to convert a float (32 bits) array into an integer (32 bits) in place?"
   ]
  },
  {
   "cell_type": "code",
   "execution_count": 3,
   "metadata": {},
   "outputs": [
    {
     "name": "stdout",
     "output_type": "stream",
     "text": [
      "[1 2 3]\n"
     ]
    }
   ],
   "source": [
    "import numpy as np\n",
    "\n",
    "# Create a float (32 bits) array\n",
    "float_array = np.array([1.5, 2.7, 3.9], dtype=np.float32)\n",
    "\n",
    "# Convert the float array to an integer (32 bits) array in place\n",
    "float_array = float_array.astype(np.int32)\n",
    "\n",
    "print(float_array)\n"
   ]
  },
  {
   "cell_type": "markdown",
   "metadata": {},
   "source": [
    "54.  How to read the following file? <br>\n",
    "1, 2, 3, 4, 5 <br>\n",
    "6,  ,  , 7, 8 <br>\n",
    " ,  , 9,10,11"
   ]
  },
  {
   "cell_type": "code",
   "execution_count": null,
   "metadata": {},
   "outputs": [],
   "source": [
    "import pandas as pd\n",
    "\n",
    "# Define the data as a string\n",
    "data = '''1, 2, 3, 4, 5\n",
    "6,  ,  , 7, 8\n",
    " ,  , 9,10,11'''\n",
    "\n",
    "# Read the data into a dataframe\n",
    "df = pd.read_csv(pd.compat.StringIO(data), header=None)\n",
    "\n",
    "print(df)\n"
   ]
  },
  {
   "cell_type": "markdown",
   "metadata": {},
   "source": [
    "55. What is the equivalent of enumerate for numpy arrays?"
   ]
  },
  {
   "cell_type": "code",
   "execution_count": 6,
   "metadata": {},
   "outputs": [
    {
     "name": "stdout",
     "output_type": "stream",
     "text": [
      "(0,) 1\n",
      "(1,) 2\n",
      "(2,) 3\n",
      "(3,) 4\n",
      "(4,) 5\n"
     ]
    }
   ],
   "source": [
    "import numpy as np\n",
    "\n",
    "arr = np.array([1, 2, 3, 4, 5])\n",
    "\n",
    "for index, value in np.ndenumerate(arr):\n",
    "    print(index, value)\n"
   ]
  },
  {
   "cell_type": "markdown",
   "metadata": {},
   "source": [
    "56. Generate a generic 2D Gaussian-like array"
   ]
  },
  {
   "cell_type": "code",
   "execution_count": 7,
   "metadata": {},
   "outputs": [
    {
     "name": "stdout",
     "output_type": "stream",
     "text": [
      "[[0.01831564 0.0403616  0.07300087 0.10836802 0.13203459 0.13203459\n",
      "  0.10836802 0.07300087 0.0403616  0.01831564]\n",
      " [0.0403616  0.08894358 0.16086971 0.2388072  0.29096046 0.29096046\n",
      "  0.2388072  0.16086971 0.08894358 0.0403616 ]\n",
      " [0.07300087 0.16086971 0.29096046 0.43192377 0.52625189 0.52625189\n",
      "  0.43192377 0.29096046 0.16086971 0.07300087]\n",
      " [0.10836802 0.2388072  0.43192377 0.64118039 0.7812082  0.7812082\n",
      "  0.64118039 0.43192377 0.2388072  0.10836802]\n",
      " [0.13203459 0.29096046 0.52625189 0.7812082  0.95181678 0.95181678\n",
      "  0.7812082  0.52625189 0.29096046 0.13203459]\n",
      " [0.13203459 0.29096046 0.52625189 0.7812082  0.95181678 0.95181678\n",
      "  0.7812082  0.52625189 0.29096046 0.13203459]\n",
      " [0.10836802 0.2388072  0.43192377 0.64118039 0.7812082  0.7812082\n",
      "  0.64118039 0.43192377 0.2388072  0.10836802]\n",
      " [0.07300087 0.16086971 0.29096046 0.43192377 0.52625189 0.52625189\n",
      "  0.43192377 0.29096046 0.16086971 0.07300087]\n",
      " [0.0403616  0.08894358 0.16086971 0.2388072  0.29096046 0.29096046\n",
      "  0.2388072  0.16086971 0.08894358 0.0403616 ]\n",
      " [0.01831564 0.0403616  0.07300087 0.10836802 0.13203459 0.13203459\n",
      "  0.10836802 0.07300087 0.0403616  0.01831564]]\n"
     ]
    }
   ],
   "source": [
    "import numpy as np\n",
    "\n",
    "# Define the size of the array\n",
    "size = (10, 10)\n",
    "\n",
    "# Create a grid of coordinates\n",
    "x, y = np.meshgrid(np.linspace(-1, 1, size[0]), np.linspace(-1, 1, size[1]))\n",
    "\n",
    "# Calculate the Gaussian-like values\n",
    "sigma = 0.5\n",
    "gaussian_array = np.exp(-(x**2 + y**2) / (2 * sigma**2))\n",
    "\n",
    "print(gaussian_array)\n"
   ]
  },
  {
   "cell_type": "markdown",
   "metadata": {},
   "source": [
    "57. How to randomly place p elements in a 2D array?"
   ]
  },
  {
   "cell_type": "code",
   "execution_count": 1,
   "metadata": {},
   "outputs": [
    {
     "name": "stdout",
     "output_type": "stream",
     "text": [
      "[[0. 0. 0. 0. 3.]\n",
      " [0. 0. 2. 0. 0.]\n",
      " [0. 0. 0. 0. 0.]\n",
      " [5. 1. 0. 0. 0.]\n",
      " [0. 0. 0. 4. 0.]]\n"
     ]
    }
   ],
   "source": [
    "import numpy as np\n",
    "\n",
    "def randomly_place_elements(array, p, values):\n",
    "    # Get the shape of the array\n",
    "    shape = array.shape\n",
    "    \n",
    "    # Generate p random indices within the range of the array shape\n",
    "    indices = np.random.choice(np.prod(shape), p, replace=False)\n",
    "    \n",
    "    # Assign the desired values to the randomly selected indices\n",
    "    array.flat[indices] = values\n",
    "    \n",
    "    return array\n",
    "\n",
    "# Example usage\n",
    "shape = (5, 5)  # Shape of the 2D array\n",
    "p = 5  # Number of elements to randomly place\n",
    "values = [1, 2, 3, 4, 5]  # Values to be randomly placed\n",
    "\n",
    "# Create an empty 2D array\n",
    "array = np.zeros(shape)\n",
    "\n",
    "# Randomly place the elements\n",
    "result = randomly_place_elements(array, p, values)\n",
    "\n",
    "print(result)\n"
   ]
  },
  {
   "cell_type": "markdown",
   "metadata": {},
   "source": [
    "58. Subtract the mean of each row of a matrix"
   ]
  },
  {
   "cell_type": "code",
   "execution_count": 2,
   "metadata": {},
   "outputs": [
    {
     "name": "stdout",
     "output_type": "stream",
     "text": [
      "[[-1.  0.  1.]\n",
      " [-1.  0.  1.]\n",
      " [-1.  0.  1.]]\n"
     ]
    }
   ],
   "source": [
    "import numpy as np\n",
    "\n",
    "# Create a matrix\n",
    "matrix = np.array([[1, 2, 3], [4, 5, 6], [7, 8, 9]])\n",
    "\n",
    "# Calculate the mean of each row\n",
    "row_means = np.mean(matrix, axis=1)\n",
    "\n",
    "# Subtract the row means from the matrix\n",
    "result = matrix - row_means[:, np.newaxis]\n",
    "\n",
    "print(result)\n"
   ]
  },
  {
   "cell_type": "markdown",
   "metadata": {},
   "source": [
    "59. How to sort an array by the nth column?"
   ]
  },
  {
   "cell_type": "code",
   "execution_count": 3,
   "metadata": {},
   "outputs": [
    {
     "name": "stdout",
     "output_type": "stream",
     "text": [
      "[[4 2 3]\n",
      " [1 5 6]\n",
      " [7 8 9]]\n"
     ]
    }
   ],
   "source": [
    "import numpy as np\n",
    "\n",
    "# Create an array\n",
    "array = np.array([[4, 2, 3], [1, 5, 6], [7, 8, 9]])\n",
    "\n",
    "# Sort the array by the nth column (n=1 in this example)\n",
    "sorted_array = array[array[:, 1].argsort()]\n",
    "\n",
    "print(sorted_array)\n"
   ]
  },
  {
   "cell_type": "markdown",
   "metadata": {},
   "source": [
    "60. How to tell if a given 2D array has null columns?"
   ]
  },
  {
   "cell_type": "code",
   "execution_count": 4,
   "metadata": {},
   "outputs": [
    {
     "name": "stdout",
     "output_type": "stream",
     "text": [
      "[False False False]\n"
     ]
    }
   ],
   "source": [
    "import numpy as np\n",
    "\n",
    "# Create a 2D array\n",
    "array = np.array([[1, 2, 0], [4, 0, 6], [7, 8, 9]])\n",
    "\n",
    "# Check if any column is null\n",
    "null_columns = np.all(array == 0, axis=0)\n",
    "\n",
    "print(null_columns)\n"
   ]
  },
  {
   "cell_type": "markdown",
   "metadata": {},
   "source": [
    "61. Find the nearest value from a given value in an array"
   ]
  },
  {
   "cell_type": "code",
   "execution_count": 5,
   "metadata": {},
   "outputs": [
    {
     "name": "stdout",
     "output_type": "stream",
     "text": [
      "Nearest value: 6\n"
     ]
    }
   ],
   "source": [
    "import numpy as np\n",
    "\n",
    "# Given value\n",
    "given_value = 5\n",
    "\n",
    "# Array\n",
    "array = np.array([1, 3, 6, 9, 12])\n",
    "\n",
    "# Find the index of the nearest value\n",
    "nearest_index = (np.abs(array - given_value)).argmin()\n",
    "\n",
    "# Get the nearest value\n",
    "nearest_value = array[nearest_index]\n",
    "\n",
    "print(\"Nearest value:\", nearest_value)\n"
   ]
  },
  {
   "cell_type": "markdown",
   "metadata": {},
   "source": [
    "62. Considering two arrays with shape (1,3) and (3,1), how to compute their sum using an iterator?"
   ]
  },
  {
   "cell_type": "code",
   "execution_count": 6,
   "metadata": {},
   "outputs": [
    {
     "name": "stdout",
     "output_type": "stream",
     "text": [
      "Sum: 63\n"
     ]
    }
   ],
   "source": [
    "import numpy as np\n",
    "\n",
    "# Create the arrays\n",
    "array1 = np.array([[1, 2, 3]])\n",
    "array2 = np.array([[4], [5], [6]])\n",
    "\n",
    "# Create an iterator for the arrays\n",
    "iterator = np.nditer([array1, array2])\n",
    "\n",
    "# Initialize the sum\n",
    "sum_result = 0\n",
    "\n",
    "# Iterate over the arrays and compute the sum\n",
    "for x, y in iterator:\n",
    "    sum_result += x + y\n",
    "\n",
    "print(\"Sum:\", sum_result)\n"
   ]
  },
  {
   "cell_type": "markdown",
   "metadata": {},
   "source": [
    "63. Create an array class that has a name attribute"
   ]
  },
  {
   "cell_type": "code",
   "execution_count": 7,
   "metadata": {},
   "outputs": [],
   "source": [
    "import numpy as np\n",
    "\n",
    "class NamedArray(np.ndarray):\n",
    "    def __new__(cls, input_array, name=None):\n",
    "        obj = np.asarray(input_array).view(cls)\n",
    "        obj.name = name\n",
    "        return obj\n",
    "\n",
    "    def __array_finalize__(self, obj):\n",
    "        if obj is None:\n",
    "            return\n",
    "        self.name = getattr(obj, 'name', None)\n"
   ]
  },
  {
   "cell_type": "markdown",
   "metadata": {},
   "source": [
    "64. Consider a given vector, how to add 1 to each element indexed by a second vector (be careful with repeated indices)?"
   ]
  },
  {
   "cell_type": "code",
   "execution_count": 8,
   "metadata": {},
   "outputs": [
    {
     "name": "stdout",
     "output_type": "stream",
     "text": [
      "[2 4 3 5 6]\n"
     ]
    }
   ],
   "source": [
    "import numpy as np\n",
    "\n",
    "# Given vector\n",
    "vector = np.array([1, 2, 3, 4, 5])\n",
    "\n",
    "# Second vector with indices\n",
    "indices = np.array([0, 1, 3, 1, 4])\n",
    "\n",
    "# Add 1 to each element indexed by the second vector\n",
    "np.add.at(vector, indices, 1)\n",
    "\n",
    "print(vector)\n"
   ]
  },
  {
   "cell_type": "markdown",
   "metadata": {},
   "source": [
    "65. How to accumulate elements of a vector (X) to an array (F) based on an index list (I)?"
   ]
  },
  {
   "cell_type": "code",
   "execution_count": 9,
   "metadata": {},
   "outputs": [
    {
     "name": "stdout",
     "output_type": "stream",
     "text": [
      "[0. 3. 6. 4. 2. 0. 0. 0. 0. 0.]\n"
     ]
    }
   ],
   "source": [
    "import numpy as np\n",
    "\n",
    "# Given vector X\n",
    "X = np.array([1, 2, 3, 4, 5])\n",
    "\n",
    "# Given array F\n",
    "F = np.zeros(10)\n",
    "\n",
    "# Given index list I\n",
    "I = np.array([2, 4, 1, 3, 2])\n",
    "\n",
    "# Accumulate elements of X to F based on I\n",
    "np.add.at(F, I, X)\n",
    "\n",
    "print(F)\n"
   ]
  },
  {
   "cell_type": "markdown",
   "metadata": {},
   "source": [
    "66. Considering a (w,h,3) image of (dtype=ubyte), compute the number of unique colors"
   ]
  },
  {
   "cell_type": "code",
   "execution_count": 15,
   "metadata": {},
   "outputs": [
    {
     "name": "stdout",
     "output_type": "stream",
     "text": [
      "Number of unique colors: 9995\n"
     ]
    }
   ],
   "source": [
    "import numpy as np\n",
    "\n",
    "# Define the dimensions of the image\n",
    "w = 100\n",
    "h = 100\n",
    "\n",
    "# Create a random image of dtype ubyte\n",
    "image = np.random.randint(0, 256, size=(w, h, 3), dtype=np.uint8)\n",
    "\n",
    "# Reshape the image to a 2D array of shape (w*h, 3)\n",
    "reshaped_image = image.reshape(-1, 3)\n",
    "\n",
    "# Compute the number of unique colors\n",
    "unique_colors = len(np.unique(reshaped_image, axis=0))\n",
    "\n",
    "print(\"Number of unique colors:\", unique_colors)\n"
   ]
  },
  {
   "cell_type": "markdown",
   "metadata": {},
   "source": [
    "67. Considering a four dimensions array, how to get sum over the last two axis at once?"
   ]
  },
  {
   "cell_type": "code",
   "execution_count": 14,
   "metadata": {},
   "outputs": [
    {
     "name": "stdout",
     "output_type": "stream",
     "text": [
      "[[ 9.73787079 10.07623266  7.84494568]\n",
      " [10.50701131 11.70774564  8.14392633]]\n"
     ]
    }
   ],
   "source": [
    "import numpy as np\n",
    "\n",
    "# four-dimensional array\n",
    "array = np.random.rand(2, 3, 4, 5)\n",
    "\n",
    "# Get the sum over the last two axes at once\n",
    "sum_result = np.sum(array, axis=(-2, -1))\n",
    "\n",
    "print(sum_result)\n"
   ]
  },
  {
   "cell_type": "markdown",
   "metadata": {},
   "source": [
    "Considering a one-dimensional vector D, how to compute means of subsets of D using a vector S of same size describing subset indices?"
   ]
  },
  {
   "cell_type": "code",
   "execution_count": 16,
   "metadata": {},
   "outputs": [
    {
     "name": "stdout",
     "output_type": "stream",
     "text": [
      "Subset Means: [5.0, 6.0]\n"
     ]
    }
   ],
   "source": [
    "import numpy as np\n",
    "\n",
    "# Create the one-dimensional vector D\n",
    "D = np.array([1, 2, 3, 4, 5, 6, 7, 8, 9, 10])\n",
    "\n",
    "# Create the vector S describing subset indices\n",
    "S = np.array([0, 1, 0, 1, 0, 1, 0, 1, 0, 1])\n",
    "\n",
    "# Find the unique subset indices in S\n",
    "unique_indices = np.unique(S)\n",
    "\n",
    "# Compute the means of subsets of D using S\n",
    "subset_means = []\n",
    "for index in unique_indices:\n",
    "    subset = D[S == index]\n",
    "    subset_mean = np.mean(subset)\n",
    "    subset_means.append(subset_mean)\n",
    "\n",
    "print(\"Subset Means:\", subset_means)\n"
   ]
  },
  {
   "cell_type": "markdown",
   "metadata": {},
   "source": [
    "69. How to get the diagonal of a dot product?"
   ]
  },
  {
   "cell_type": "code",
   "execution_count": 17,
   "metadata": {},
   "outputs": [
    {
     "name": "stdout",
     "output_type": "stream",
     "text": [
      "[19 50]\n"
     ]
    }
   ],
   "source": [
    "import numpy as np\n",
    "\n",
    "# Create two matrices\n",
    "matrix1 = np.array([[1, 2], [3, 4]])\n",
    "matrix2 = np.array([[5, 6], [7, 8]])\n",
    "\n",
    "# Perform the dot product\n",
    "dot_product = np.dot(matrix1, matrix2)\n",
    "\n",
    "# Get the diagonal of the dot product\n",
    "diagonal = np.diagonal(dot_product)\n",
    "\n",
    "print(diagonal)\n"
   ]
  },
  {
   "cell_type": "markdown",
   "metadata": {},
   "source": [
    "Consider the vector [1, 2, 3, 4, 5], how to build a new vector with 3 consecutive zeros interleaved between each value?"
   ]
  },
  {
   "cell_type": "code",
   "execution_count": 18,
   "metadata": {},
   "outputs": [
    {
     "name": "stdout",
     "output_type": "stream",
     "text": [
      "[1 1 1 0 1 2 2 2 0 2 3 3 3 0 3 4 4 4 0 4 5 5 5 0 5]\n"
     ]
    }
   ],
   "source": [
    "import numpy as np\n",
    "\n",
    "# Given vector\n",
    "vector = np.array([1, 2, 3, 4, 5])\n",
    "\n",
    "# Build a new vector with 3 consecutive zeros interleaved between each value\n",
    "new_vector = np.insert(np.repeat(vector, 4), np.arange(3, len(vector)*4, 4), 0)\n",
    "\n",
    "print(new_vector)\n"
   ]
  },
  {
   "cell_type": "markdown",
   "metadata": {},
   "source": [
    "71. Consider an array of dimension (5,5,3), how to mulitply it by an array with dimensions (5,5)?"
   ]
  },
  {
   "cell_type": "code",
   "execution_count": 19,
   "metadata": {},
   "outputs": [
    {
     "name": "stdout",
     "output_type": "stream",
     "text": [
      "[[[0.54196889 0.35595212 0.57044213]\n",
      "  [0.15546243 0.1082427  0.14420573]\n",
      "  [0.33905444 0.31135748 0.12459723]\n",
      "  [0.85297865 0.24192809 0.89642344]\n",
      "  [0.03470542 0.1124358  0.12638382]]\n",
      "\n",
      " [[0.17750241 0.27130456 0.35335173]\n",
      "  [0.15419807 0.21004824 0.080361  ]\n",
      "  [0.14843495 0.46791997 0.40156045]\n",
      "  [0.33021789 0.30627406 0.5092937 ]\n",
      "  [0.33371337 0.29895968 0.63779931]]\n",
      "\n",
      " [[0.45057355 0.23971265 0.28626128]\n",
      "  [0.12095122 0.15981361 0.07592904]\n",
      "  [0.23456382 0.19899557 0.13758978]\n",
      "  [0.63173808 0.44336468 0.36726844]\n",
      "  [0.25834643 0.1093277  0.06533334]]\n",
      "\n",
      " [[0.53671787 0.42100796 0.29117027]\n",
      "  [0.47876153 0.50521338 0.24514214]\n",
      "  [0.49083935 0.65259381 0.61181934]\n",
      "  [0.70499099 0.60245829 0.09019429]\n",
      "  [0.11551394 0.80955302 0.21701295]]\n",
      "\n",
      " [[0.41767039 0.44688928 0.06723414]\n",
      "  [0.17337387 0.72002386 0.00520379]\n",
      "  [0.52595253 0.05440306 0.53801181]\n",
      "  [0.1731093  0.12453318 0.08620899]\n",
      "  [0.10291317 0.19216855 0.23613527]]]\n"
     ]
    }
   ],
   "source": [
    "import numpy as np\n",
    "\n",
    "# Create the array of dimension (5,5,3)\n",
    "array1 = np.random.rand(5, 5, 3)\n",
    "\n",
    "# Create the array with dimensions (5,5)\n",
    "array2 = np.random.rand(5, 5)\n",
    "\n",
    "# Multiply the arrays\n",
    "result = array1 * array2[:, :, np.newaxis]\n",
    "\n",
    "print(result)\n"
   ]
  },
  {
   "cell_type": "markdown",
   "metadata": {},
   "source": [
    "72. How to swap two rows of an array?"
   ]
  },
  {
   "cell_type": "code",
   "execution_count": 20,
   "metadata": {},
   "outputs": [
    {
     "name": "stdout",
     "output_type": "stream",
     "text": [
      "[[4 5 6]\n",
      " [1 2 3]\n",
      " [7 8 9]]\n"
     ]
    }
   ],
   "source": [
    "import numpy as np\n",
    "\n",
    "# Create an array\n",
    "array = np.array([[1, 2, 3], [4, 5, 6], [7, 8, 9]])\n",
    "\n",
    "# Swap rows 0 and 1\n",
    "array[[0, 1]] = array[[1, 0]]\n",
    "\n",
    "print(array)\n"
   ]
  },
  {
   "cell_type": "markdown",
   "metadata": {},
   "source": [
    "73. Consider a set of 10 triplets describing 10 triangles (with shared vertices), find the set of unique line segments composing all the triangles"
   ]
  },
  {
   "cell_type": "code",
   "execution_count": 21,
   "metadata": {},
   "outputs": [
    {
     "name": "stdout",
     "output_type": "stream",
     "text": [
      "((2, 0), (3, 1))\n",
      "((9, 1), (7, 1))\n",
      "((9, 1), (10, 0))\n",
      "((3, 1), (4, 0))\n",
      "((7, 1), (8, 0))\n",
      "((7, 1), (5, 1))\n",
      "((3, 1), (1, 1))\n",
      "((6, 0), (4, 0))\n",
      "((8, 0), (6, 0))\n",
      "((4, 0), (2, 0))\n",
      "((8, 0), (9, 1))\n",
      "((0, 0), (1, 1))\n",
      "((11, 1), (9, 1))\n",
      "((5, 1), (6, 0))\n",
      "((5, 1), (3, 1))\n",
      "((6, 0), (7, 1))\n",
      "((4, 0), (5, 1))\n",
      "((2, 0), (0, 0))\n",
      "((1, 1), (2, 0))\n",
      "((10, 0), (8, 0))\n",
      "((10, 0), (11, 1))\n"
     ]
    }
   ],
   "source": [
    "# Set of triplets describing the triangles\n",
    "triplets = [\n",
    "    [(0, 0), (1, 1), (2, 0)],\n",
    "    [(1, 1), (2, 0), (3, 1)],\n",
    "    [(2, 0), (3, 1), (4, 0)],\n",
    "    [(3, 1), (4, 0), (5, 1)],\n",
    "    [(4, 0), (5, 1), (6, 0)],\n",
    "    [(5, 1), (6, 0), (7, 1)],\n",
    "    [(6, 0), (7, 1), (8, 0)],\n",
    "    [(7, 1), (8, 0), (9, 1)],\n",
    "    [(8, 0), (9, 1), (10, 0)],\n",
    "    [(9, 1), (10, 0), (11, 1)]\n",
    "]\n",
    "\n",
    "# Set to store unique line segments\n",
    "line_segments = set()\n",
    "\n",
    "# Iterate over the triplets\n",
    "for triplet in triplets:\n",
    "    # Extract line segments from the triplet\n",
    "    segment1 = (triplet[0], triplet[1])\n",
    "    segment2 = (triplet[1], triplet[2])\n",
    "    segment3 = (triplet[2], triplet[0])\n",
    "    \n",
    "    # Add line segments to the set\n",
    "    line_segments.add(segment1)\n",
    "    line_segments.add(segment2)\n",
    "    line_segments.add(segment3)\n",
    "\n",
    "# Print the set of unique line segments\n",
    "for segment in line_segments:\n",
    "    print(segment)\n"
   ]
  },
  {
   "cell_type": "markdown",
   "metadata": {},
   "source": [
    "74. Given a sorted array C that corresponds to a bincount, how to produce an array A such that np.bincount(A) == C?"
   ]
  },
  {
   "cell_type": "code",
   "execution_count": 22,
   "metadata": {},
   "outputs": [
    {
     "name": "stdout",
     "output_type": "stream",
     "text": [
      "[1 2 2 3 3 3 4 4 4 4 5 5 5 5 5]\n"
     ]
    }
   ],
   "source": [
    "import numpy as np\n",
    "\n",
    "# Given sorted array C\n",
    "C = np.array([0, 1, 2, 3, 4, 5])\n",
    "\n",
    "# Produce array A\n",
    "A = np.repeat(np.arange(len(C)), C)\n",
    "\n",
    "print(A)\n"
   ]
  },
  {
   "cell_type": "markdown",
   "metadata": {},
   "source": [
    "75. How to compute averages using a sliding window over an array?"
   ]
  },
  {
   "cell_type": "code",
   "execution_count": 23,
   "metadata": {},
   "outputs": [
    {
     "name": "stdout",
     "output_type": "stream",
     "text": [
      "[1.         2.         3.         4.         5.         6.\n",
      " 7.         8.         9.         6.33333333]\n"
     ]
    }
   ],
   "source": [
    "import numpy as np\n",
    "\n",
    "def sliding_window_average(array, window_size):\n",
    "    # Pad the array with zeros on both sides to handle edge cases\n",
    "    padded_array = np.pad(array, (window_size // 2, window_size // 2), mode='constant')\n",
    "    \n",
    "    # Create a sliding window view of the padded array\n",
    "    sliding_window = np.lib.stride_tricks.sliding_window_view(padded_array, window_size)\n",
    "    \n",
    "    # Compute the average along the last axis of the sliding window view\n",
    "    averages = np.mean(sliding_window, axis=-1)\n",
    "    \n",
    "    return averages\n",
    "\n",
    "# Example usage\n",
    "array = np.array([1, 2, 3, 4, 5, 6, 7, 8, 9, 10])\n",
    "window_size = 3\n",
    "\n",
    "averages = sliding_window_average(array, window_size)\n",
    "print(averages)\n"
   ]
  },
  {
   "cell_type": "markdown",
   "metadata": {},
   "source": [
    "76. Consider a one-dimensional array Z, build a two-dimensional array whose first row is (Z[0],Z[1],Z[2]) and each subsequent row is shifted by 1 (last row should be (Z[-3],Z[-2],Z[-1])"
   ]
  },
  {
   "cell_type": "code",
   "execution_count": 31,
   "metadata": {},
   "outputs": [
    {
     "name": "stdout",
     "output_type": "stream",
     "text": [
      "[[1 2 3]\n",
      " [2 3 4]\n",
      " [3 4 5]]\n"
     ]
    }
   ],
   "source": [
    "import numpy as np\n",
    "\n",
    "# Create a one-dimensional array Z\n",
    "Z = np.array([1, 2, 3, 4, 5])\n",
    "\n",
    "# Build a two-dimensional array with shifted rows\n",
    "shifted_array = np.lib.stride_tricks.sliding_window_view(Z, 3)\n",
    "\n",
    "print(shifted_array)\n"
   ]
  },
  {
   "cell_type": "markdown",
   "metadata": {},
   "source": [
    "77. How to negate a boolean, or to change the sign of a float inplace?"
   ]
  },
  {
   "cell_type": "code",
   "execution_count": 32,
   "metadata": {},
   "outputs": [
    {
     "name": "stdout",
     "output_type": "stream",
     "text": [
      "False\n"
     ]
    }
   ],
   "source": [
    "boolean_value = True\n",
    "negated_value = not boolean_value\n",
    "print(negated_value)\n"
   ]
  },
  {
   "cell_type": "markdown",
   "metadata": {},
   "source": [
    "78. Consider 2 sets of points P0,P1 describing lines (2d) and a point p, how to compute distance from p to each line i (P0[i],P1[i])?"
   ]
  },
  {
   "cell_type": "code",
   "execution_count": 33,
   "metadata": {},
   "outputs": [
    {
     "name": "stdout",
     "output_type": "stream",
     "text": [
      "[2.12132034 0.70710678 0.70710678]\n"
     ]
    }
   ],
   "source": [
    "import numpy as np\n",
    "\n",
    "def distance_to_lines(P0, P1, p):\n",
    "    # Convert points to numpy arrays\n",
    "    P0 = np.array(P0)\n",
    "    P1 = np.array(P1)\n",
    "    p = np.array(p)\n",
    "    \n",
    "    # Compute the direction vectors of the lines\n",
    "    direction_vectors = P1 - P0\n",
    "    \n",
    "    # Compute the vector from each line point to the point p\n",
    "    line_to_point_vectors = p - P0\n",
    "    \n",
    "    # Compute the lengths of the direction vectors\n",
    "    direction_lengths = np.linalg.norm(direction_vectors, axis=1)\n",
    "    \n",
    "    # Compute the dot products between the direction vectors and the line-to-point vectors\n",
    "    dot_products = np.sum(direction_vectors * line_to_point_vectors, axis=1)\n",
    "    \n",
    "    # Compute the distances from p to each line\n",
    "    distances = np.abs(dot_products) / direction_lengths\n",
    "    \n",
    "    return distances\n",
    "\n",
    "# Example usage\n",
    "P0 = [(1, 1), (2, 2), (3, 3)]\n",
    "P1 = [(4, 4), (5, 5), (6, 6)]\n",
    "p = (2, 3)\n",
    "\n",
    "distances = distance_to_lines(P0, P1, p)\n",
    "print(distances)\n"
   ]
  },
  {
   "cell_type": "markdown",
   "metadata": {},
   "source": [
    "79. Consider 2 sets of points P0,P1 describing lines (2d) and a set of points P, how to compute distance from each point j (P[j]) to each line i (P0[i],P1[i])?"
   ]
  },
  {
   "cell_type": "code",
   "execution_count": 34,
   "metadata": {},
   "outputs": [
    {
     "name": "stdout",
     "output_type": "stream",
     "text": [
      "[[2.12132034 0.70710678 0.70710678]\n",
      " [4.94974747 3.53553391 2.12132034]\n",
      " [7.77817459 6.36396103 4.94974747]]\n"
     ]
    }
   ],
   "source": [
    "import numpy as np\n",
    "\n",
    "def distance_to_lines(P0, P1, P):\n",
    "    # Convert points to numpy arrays\n",
    "    P0 = np.array(P0)\n",
    "    P1 = np.array(P1)\n",
    "    P = np.array(P)\n",
    "    \n",
    "    # Compute the direction vectors of the lines\n",
    "    direction_vectors = P1 - P0\n",
    "    \n",
    "    # Compute the vector from each line point to the points in P\n",
    "    line_to_point_vectors = P[:, np.newaxis] - P0\n",
    "    \n",
    "    # Compute the lengths of the direction vectors\n",
    "    direction_lengths = np.linalg.norm(direction_vectors, axis=1)\n",
    "    \n",
    "    # Compute the dot products between the direction vectors and the line-to-point vectors\n",
    "    dot_products = np.sum(direction_vectors * line_to_point_vectors, axis=2)\n",
    "    \n",
    "    # Compute the distances from each point in P to each line\n",
    "    distances = np.abs(dot_products) / direction_lengths\n",
    "    \n",
    "    return distances\n",
    "\n",
    "# Example usage\n",
    "P0 = [(1, 1), (2, 2), (3, 3)]\n",
    "P1 = [(4, 4), (5, 5), (6, 6)]\n",
    "P = [(2, 3), (4, 5), (6, 7)]\n",
    "\n",
    "distances = distance_to_lines(P0, P1, P)\n",
    "print(distances)\n"
   ]
  },
  {
   "cell_type": "markdown",
   "metadata": {},
   "source": [
    "80. Consider an arbitrary array, write a function that extract a subpart with a fixed shape and centered on a given element (pad with a fill value when necessary)"
   ]
  },
  {
   "cell_type": "code",
   "execution_count": 36,
   "metadata": {},
   "outputs": [],
   "source": [
    "import numpy as np\n",
    "\n",
    "def extract_subpart(array, shape, center_element, fill_value):\n",
    "    # Get the indices of the center element\n",
    "    center_indices = np.where(array == center_element)\n",
    "    \n",
    "    if len(center_indices[0]) == 0:\n",
    "        raise ValueError(\"Center element not found in the array\")\n",
    "    \n",
    "    # Get the coordinates of the center element\n",
    "    center_coordinates = list(zip(center_indices[0], center_indices[1]))\n",
    "    \n",
    "    # Get the top-left corner coordinates of the subpart\n",
    "    top_left_coordinates = (center_coordinates[0][0] - shape[0] // 2, center_coordinates[0][1] - shape[1] // 2)\n",
    "    \n",
    "    # Get the bottom-right corner coordinates of the subpart\n",
    "    bottom_right_coordinates = (top_left_coordinates[0] + shape[0], top_left_coordinates[1] + shape[1])\n",
    "    \n",
    "    # Pad the array if necessary\n",
    "    padded_array = np.pad(array, ((shape[0] // 2, shape[0] // 2), (shape[1] // 2, shape[1] // 2)), mode='constant', constant_values=fill_value)\n",
    "    \n",
    "    # Extract the subpart\n",
    "    subpart = padded_array[top_left_coordinates[0]:bottom_right_coordinates[0], top_left_coordinates[1]:bottom_right_coordinates[1]]\n",
    "    \n",
    "    return subpart\n"
   ]
  },
  {
   "cell_type": "markdown",
   "metadata": {},
   "source": [
    "81. Consider an array Z = [1,2,3,4,5,6,7,8,9,10,11,12,13,14], how to generate an array R = [[1,2,3,4], [2,3,4,5], [3,4,5,6], ..., [11,12,13,14]]?"
   ]
  },
  {
   "cell_type": "code",
   "execution_count": 37,
   "metadata": {},
   "outputs": [
    {
     "name": "stdout",
     "output_type": "stream",
     "text": [
      "[[ 1  2  3  4]\n",
      " [ 2  3  4  5]\n",
      " [ 3  4  5  6]\n",
      " [ 4  5  6  7]\n",
      " [ 5  6  7  8]\n",
      " [ 6  7  8  9]\n",
      " [ 7  8  9 10]\n",
      " [ 8  9 10 11]\n",
      " [ 9 10 11 12]\n",
      " [10 11 12 13]\n",
      " [11 12 13 14]]\n"
     ]
    }
   ],
   "source": [
    "import numpy as np\n",
    "\n",
    "Z = np.array([1, 2, 3, 4, 5, 6, 7, 8, 9, 10, 11, 12, 13, 14])\n",
    "window_size = 4\n",
    "\n",
    "R = np.lib.stride_tricks.sliding_window_view(Z, window_size)\n",
    "\n",
    "print(R)\n"
   ]
  },
  {
   "cell_type": "markdown",
   "metadata": {},
   "source": [
    "82. Compute a matrix rank"
   ]
  },
  {
   "cell_type": "code",
   "execution_count": 38,
   "metadata": {},
   "outputs": [
    {
     "name": "stdout",
     "output_type": "stream",
     "text": [
      "Matrix Rank: 2\n"
     ]
    }
   ],
   "source": [
    "import numpy as np\n",
    "\n",
    "# Create your matrix\n",
    "matrix = np.array([[1, 2, 3], [4, 5, 6], [7, 8, 9]])\n",
    "\n",
    "# Compute the rank of the matrix\n",
    "rank = np.linalg.matrix_rank(matrix)\n",
    "\n",
    "print(\"Matrix Rank:\", rank)\n"
   ]
  },
  {
   "cell_type": "markdown",
   "metadata": {},
   "source": [
    "83. How to find the most frequent value in an array?"
   ]
  },
  {
   "cell_type": "code",
   "execution_count": 39,
   "metadata": {},
   "outputs": [
    {
     "name": "stdout",
     "output_type": "stream",
     "text": [
      "Most frequent value: 2\n"
     ]
    }
   ],
   "source": [
    "import numpy as np\n",
    "\n",
    "# Create your array\n",
    "array = np.array([1, 2, 3, 2, 4, 2, 5, 2, 6, 2, 7, 2])\n",
    "\n",
    "# Find the most frequent value\n",
    "most_frequent_value = np.bincount(array).argmax()\n",
    "\n",
    "print(\"Most frequent value:\", most_frequent_value)\n"
   ]
  },
  {
   "cell_type": "markdown",
   "metadata": {},
   "source": [
    "84. Extract all the contiguous 3x3 blocks from a random 10x10 matrix"
   ]
  },
  {
   "cell_type": "code",
   "execution_count": 40,
   "metadata": {},
   "outputs": [
    {
     "name": "stdout",
     "output_type": "stream",
     "text": [
      "[[1 2 2]\n",
      " [6 4 1]\n",
      " [0 2 9]]\n",
      "[[2 2 6]\n",
      " [4 1 3]\n",
      " [2 9 3]]\n",
      "[[2 6 9]\n",
      " [1 3 9]\n",
      " [9 3 5]]\n",
      "[[6 9 4]\n",
      " [3 9 4]\n",
      " [3 5 7]]\n",
      "[[9 4 2]\n",
      " [9 4 4]\n",
      " [5 7 6]]\n",
      "[[4 2 2]\n",
      " [4 4 5]\n",
      " [7 6 7]]\n",
      "[[2 2 9]\n",
      " [4 5 7]\n",
      " [6 7 0]]\n",
      "[[2 9 5]\n",
      " [5 7 5]\n",
      " [7 0 2]]\n",
      "[[6 4 1]\n",
      " [0 2 9]\n",
      " [4 6 7]]\n",
      "[[4 1 3]\n",
      " [2 9 3]\n",
      " [6 7 6]]\n",
      "[[1 3 9]\n",
      " [9 3 5]\n",
      " [7 6 1]]\n",
      "[[3 9 4]\n",
      " [3 5 7]\n",
      " [6 1 0]]\n",
      "[[9 4 4]\n",
      " [5 7 6]\n",
      " [1 0 9]]\n",
      "[[4 4 5]\n",
      " [7 6 7]\n",
      " [0 9 9]]\n",
      "[[4 5 7]\n",
      " [6 7 0]\n",
      " [9 9 6]]\n",
      "[[5 7 5]\n",
      " [7 0 2]\n",
      " [9 6 4]]\n",
      "[[0 2 9]\n",
      " [4 6 7]\n",
      " [5 4 8]]\n",
      "[[2 9 3]\n",
      " [6 7 6]\n",
      " [4 8 4]]\n",
      "[[9 3 5]\n",
      " [7 6 1]\n",
      " [8 4 8]]\n",
      "[[3 5 7]\n",
      " [6 1 0]\n",
      " [4 8 1]]\n",
      "[[5 7 6]\n",
      " [1 0 9]\n",
      " [8 1 7]]\n",
      "[[7 6 7]\n",
      " [0 9 9]\n",
      " [1 7 4]]\n",
      "[[6 7 0]\n",
      " [9 9 6]\n",
      " [7 4 7]]\n",
      "[[7 0 2]\n",
      " [9 6 4]\n",
      " [4 7 5]]\n",
      "[[4 6 7]\n",
      " [5 4 8]\n",
      " [0 6 1]]\n",
      "[[6 7 6]\n",
      " [4 8 4]\n",
      " [6 1 2]]\n",
      "[[7 6 1]\n",
      " [8 4 8]\n",
      " [1 2 1]]\n",
      "[[6 1 0]\n",
      " [4 8 1]\n",
      " [2 1 3]]\n",
      "[[1 0 9]\n",
      " [8 1 7]\n",
      " [1 3 9]]\n",
      "[[0 9 9]\n",
      " [1 7 4]\n",
      " [3 9 2]]\n",
      "[[9 9 6]\n",
      " [7 4 7]\n",
      " [9 2 3]]\n",
      "[[9 6 4]\n",
      " [4 7 5]\n",
      " [2 3 2]]\n",
      "[[5 4 8]\n",
      " [0 6 1]\n",
      " [1 8 5]]\n",
      "[[4 8 4]\n",
      " [6 1 2]\n",
      " [8 5 5]]\n",
      "[[8 4 8]\n",
      " [1 2 1]\n",
      " [5 5 3]]\n",
      "[[4 8 1]\n",
      " [2 1 3]\n",
      " [5 3 3]]\n",
      "[[8 1 7]\n",
      " [1 3 9]\n",
      " [3 3 7]]\n",
      "[[1 7 4]\n",
      " [3 9 2]\n",
      " [3 7 6]]\n",
      "[[7 4 7]\n",
      " [9 2 3]\n",
      " [7 6 8]]\n",
      "[[4 7 5]\n",
      " [2 3 2]\n",
      " [6 8 0]]\n",
      "[[0 6 1]\n",
      " [1 8 5]\n",
      " [3 5 2]]\n",
      "[[6 1 2]\n",
      " [8 5 5]\n",
      " [5 2 7]]\n",
      "[[1 2 1]\n",
      " [5 5 3]\n",
      " [2 7 2]]\n",
      "[[2 1 3]\n",
      " [5 3 3]\n",
      " [7 2 5]]\n",
      "[[1 3 9]\n",
      " [3 3 7]\n",
      " [2 5 9]]\n",
      "[[3 9 2]\n",
      " [3 7 6]\n",
      " [5 9 9]]\n",
      "[[9 2 3]\n",
      " [7 6 8]\n",
      " [9 9 5]]\n",
      "[[2 3 2]\n",
      " [6 8 0]\n",
      " [9 5 8]]\n",
      "[[1 8 5]\n",
      " [3 5 2]\n",
      " [7 4 5]]\n",
      "[[8 5 5]\n",
      " [5 2 7]\n",
      " [4 5 5]]\n",
      "[[5 5 3]\n",
      " [2 7 2]\n",
      " [5 5 4]]\n",
      "[[5 3 3]\n",
      " [7 2 5]\n",
      " [5 4 6]]\n",
      "[[3 3 7]\n",
      " [2 5 9]\n",
      " [4 6 0]]\n",
      "[[3 7 6]\n",
      " [5 9 9]\n",
      " [6 0 2]]\n",
      "[[7 6 8]\n",
      " [9 9 5]\n",
      " [0 2 6]]\n",
      "[[6 8 0]\n",
      " [9 5 8]\n",
      " [2 6 1]]\n",
      "[[3 5 2]\n",
      " [7 4 5]\n",
      " [9 2 4]]\n",
      "[[5 2 7]\n",
      " [4 5 5]\n",
      " [2 4 3]]\n",
      "[[2 7 2]\n",
      " [5 5 4]\n",
      " [4 3 0]]\n",
      "[[7 2 5]\n",
      " [5 4 6]\n",
      " [3 0 2]]\n",
      "[[2 5 9]\n",
      " [4 6 0]\n",
      " [0 2 0]]\n",
      "[[5 9 9]\n",
      " [6 0 2]\n",
      " [2 0 5]]\n",
      "[[9 9 5]\n",
      " [0 2 6]\n",
      " [0 5 9]]\n",
      "[[9 5 8]\n",
      " [2 6 1]\n",
      " [5 9 7]]\n"
     ]
    }
   ],
   "source": [
    "import numpy as np\n",
    "\n",
    "# Create a random 10x10 matrix\n",
    "matrix = np.random.randint(0, 10, size=(10, 10))\n",
    "\n",
    "# Extract all the contiguous 3x3 blocks\n",
    "blocks = []\n",
    "for i in range(8):\n",
    "    for j in range(8):\n",
    "        block = matrix[i:i+3, j:j+3]\n",
    "        blocks.append(block)\n",
    "\n",
    "# Print the extracted blocks\n",
    "for block in blocks:\n",
    "    print(block)\n"
   ]
  },
  {
   "cell_type": "markdown",
   "metadata": {},
   "source": [
    "85. Create a 2D array subclass such that Z[i,j] == Z[j,i]"
   ]
  },
  {
   "cell_type": "code",
   "execution_count": 41,
   "metadata": {},
   "outputs": [],
   "source": [
    "import numpy as np\n",
    "\n",
    "class SymmetricArray(np.ndarray):\n",
    "    def __new__(cls, input_array):\n",
    "        obj = np.asarray(input_array).view(cls)\n",
    "        return obj\n",
    "    \n",
    "    def __setitem__(self, index, value):\n",
    "        i, j = index\n",
    "        super().__setitem__((i, j), value)\n",
    "        super().__setitem__((j, i), value)\n"
   ]
  },
  {
   "cell_type": "markdown",
   "metadata": {},
   "source": [
    "86. Consider a set of p matrices with shape (n,n) and a set of p vectors with shape (n,1). How to compute the sum of of the p matrix products at once? (result has shape (n,1))"
   ]
  },
  {
   "cell_type": "code",
   "execution_count": 42,
   "metadata": {},
   "outputs": [
    {
     "name": "stdout",
     "output_type": "stream",
     "text": [
      "[[2.22824027]\n",
      " [2.66852414]\n",
      " [2.36272143]\n",
      " [2.53372885]]\n"
     ]
    }
   ],
   "source": [
    "import numpy as np\n",
    "\n",
    "# Set the number of matrices and their shape\n",
    "p = 3\n",
    "n = 4\n",
    "\n",
    "# Create p matrices with shape (n,n)\n",
    "matrices = [np.random.rand(n, n) for _ in range(p)]\n",
    "\n",
    "# Create p vectors with shape (n,1)\n",
    "vectors = [np.random.rand(n, 1) for _ in range(p)]\n",
    "\n",
    "# Compute the sum of the p matrix products\n",
    "result = np.sum([np.dot(matrix, vector) for matrix, vector in zip(matrices, vectors)], axis=0)\n",
    "\n",
    "print(result)\n"
   ]
  },
  {
   "cell_type": "markdown",
   "metadata": {},
   "source": [
    "87. Consider a 16x16 array, how to get the block-sum (block size is 4x4)?"
   ]
  },
  {
   "cell_type": "code",
   "execution_count": 43,
   "metadata": {},
   "outputs": [
    {
     "name": "stdout",
     "output_type": "stream",
     "text": [
      "[[71 67 74 80]\n",
      " [62 73 77 57]\n",
      " [46 78 63 49]\n",
      " [80 44 50 83]]\n"
     ]
    }
   ],
   "source": [
    "import numpy as np\n",
    "\n",
    "# Create a 16x16 array\n",
    "array = np.random.randint(0, 10, size=(16, 16))\n",
    "\n",
    "# Reshape the array into blocks of size 4x4\n",
    "blocks = array.reshape(4, 4, 4, 4)\n",
    "\n",
    "# Compute the sum of each block\n",
    "block_sums = np.sum(blocks, axis=(2, 3))\n",
    "\n",
    "print(block_sums)\n"
   ]
  },
  {
   "cell_type": "markdown",
   "metadata": {},
   "source": [
    "89. How to get the n largest values of an array"
   ]
  },
  {
   "cell_type": "code",
   "execution_count": 46,
   "metadata": {},
   "outputs": [
    {
     "name": "stdout",
     "output_type": "stream",
     "text": [
      "Largest values: [7 8 9]\n"
     ]
    }
   ],
   "source": [
    "import numpy as np\n",
    "\n",
    "# Create your array\n",
    "array = np.array([5, 2, 9, 1, 7, 3, 8, 4, 6])\n",
    "\n",
    "# Specify the value of n\n",
    "n = 3\n",
    "\n",
    "# Get the n largest values\n",
    "largest_values = np.partition(array, -n)[-n:]\n",
    "\n",
    "print(\"Largest values:\", largest_values)\n"
   ]
  },
  {
   "cell_type": "markdown",
   "metadata": {},
   "source": [
    "90. Given an arbitrary number of vectors, build the cartesian product (every combinations of every item)"
   ]
  },
  {
   "cell_type": "code",
   "execution_count": 45,
   "metadata": {},
   "outputs": [
    {
     "name": "stdout",
     "output_type": "stream",
     "text": [
      "[(1, 4, 6), (1, 4, 7), (1, 4, 8), (1, 5, 6), (1, 5, 7), (1, 5, 8), (2, 4, 6), (2, 4, 7), (2, 4, 8), (2, 5, 6), (2, 5, 7), (2, 5, 8), (3, 4, 6), (3, 4, 7), (3, 4, 8), (3, 5, 6), (3, 5, 7), (3, 5, 8)]\n"
     ]
    }
   ],
   "source": [
    "import itertools\n",
    "\n",
    "# Define the vectors\n",
    "vector1 = [1, 2, 3]\n",
    "vector2 = [4, 5]\n",
    "vector3 = [6, 7, 8]\n",
    "\n",
    "# Build the cartesian product\n",
    "cartesian_product = list(itertools.product(vector1, vector2, vector3))\n",
    "\n",
    "print(cartesian_product)\n"
   ]
  },
  {
   "cell_type": "markdown",
   "metadata": {},
   "source": [
    "91. How to create a record array from a regular array?"
   ]
  },
  {
   "cell_type": "code",
   "execution_count": 48,
   "metadata": {},
   "outputs": [
    {
     "name": "stdout",
     "output_type": "stream",
     "text": [
      "[['1' 'Alice' '25']\n",
      " ['2' 'Bob' '30']\n",
      " ['3' 'Charlie' '35']]\n"
     ]
    }
   ],
   "source": [
    "import numpy as np\n",
    "\n",
    "# Create a regular array\n",
    "regular_array = np.array([(1, 'Alice', 25), (2, 'Bob', 30), (3, 'Charlie', 35)])\n",
    "\n",
    "# Define the dtype for the record array\n",
    "dtype = [('ID', int), ('Name', 'U10'), ('Age', int)]\n",
    "\n",
    "# Create the record array\n",
    "record_array = np.rec.array(regular_array)\n",
    "\n",
    "print(record_array)\n"
   ]
  },
  {
   "cell_type": "markdown",
   "metadata": {},
   "source": [
    "92. Consider a large vector Z, compute Z to the power of 3 using 3 different methods"
   ]
  },
  {
   "cell_type": "code",
   "execution_count": 49,
   "metadata": {},
   "outputs": [],
   "source": [
    "# Method 1: Using np.power()\n",
    "Z_cubed_method1 = np.power(Z, 3)\n",
    "     \n",
    "\n",
    "# Method 2: Using the exponentiation operator **\n",
    "Z_cubed_method2 = Z ** 3\n",
    "     \n",
    "\n",
    "# Method 3: Using element-wise multiplication\n",
    "Z_cubed_method3 = Z * Z * Z"
   ]
  },
  {
   "cell_type": "markdown",
   "metadata": {},
   "source": [
    "93. Consider two arrays A and B of shape (8,3) and (2,2). How to find rows of A that contain elements of each row of B regardless of the order of the elements in B?"
   ]
  },
  {
   "cell_type": "code",
   "execution_count": null,
   "metadata": {},
   "outputs": [],
   "source": [
    "import numpy as np\n",
    "\n",
    "# Create arrays A and B\n",
    "A = np.random.randint(0, 10, size=(8, 3))\n",
    "B = np.random.randint(0, 10, size=(2, 2))\n",
    "\n",
    "# Find rows of A that contain elements of each row of B\n",
    "matching_rows = []\n",
    "for row in B:\n",
    "    matching_rows.extend(np.where((A == row[:, None]).all(axis=2))[0])\n",
    "\n",
    "# Remove duplicate rows\n",
    "matching_rows = np.unique(matching_rows)\n",
    "\n",
    "print(\"Matching rows:\", matching_rows)\n"
   ]
  },
  {
   "cell_type": "markdown",
   "metadata": {},
   "source": [
    "94. Considering a 10x3 matrix, extract rows with unequal values (e.g. [2,2,3])"
   ]
  },
  {
   "cell_type": "code",
   "execution_count": 51,
   "metadata": {},
   "outputs": [
    {
     "name": "stdout",
     "output_type": "stream",
     "text": [
      "[[3 2 0]\n",
      " [4 2 0]\n",
      " [0 3 2]\n",
      " [3 1 3]\n",
      " [3 1 4]\n",
      " [4 3 4]\n",
      " [2 3 1]\n",
      " [2 3 0]\n",
      " [0 0 1]\n",
      " [1 4 3]]\n"
     ]
    }
   ],
   "source": [
    "import numpy as np\n",
    "\n",
    "# Create a 10x3 matrix\n",
    "matrix = np.random.randint(0, 5, size=(10, 3))\n",
    "\n",
    "# Extract rows with unequal values\n",
    "unequal_rows = matrix[np.any(matrix[:, 1:] != matrix[:, :-1], axis=1)]\n",
    "\n",
    "print(unequal_rows)\n"
   ]
  },
  {
   "cell_type": "markdown",
   "metadata": {},
   "source": [
    "95. Convert a vector of ints into a matrix binary representation"
   ]
  },
  {
   "cell_type": "code",
   "execution_count": 60,
   "metadata": {},
   "outputs": [
    {
     "name": "stdout",
     "output_type": "stream",
     "text": [
      "[[0 0 0 0 0 0 0 1 0 0 0 0 0 0 0 0 0 0 0 0 0 0 0 0 0 0 0 0 0 0 0 0]\n",
      " [0 0 0 0 0 0 1 0 0 0 0 0 0 0 0 0 0 0 0 0 0 0 0 0 0 0 0 0 0 0 0 0]\n",
      " [0 0 0 0 0 0 1 1 0 0 0 0 0 0 0 0 0 0 0 0 0 0 0 0 0 0 0 0 0 0 0 0]\n",
      " [0 0 0 0 0 1 0 0 0 0 0 0 0 0 0 0 0 0 0 0 0 0 0 0 0 0 0 0 0 0 0 0]\n",
      " [0 0 0 0 0 1 0 1 0 0 0 0 0 0 0 0 0 0 0 0 0 0 0 0 0 0 0 0 0 0 0 0]]\n"
     ]
    }
   ],
   "source": [
    "import numpy as np\n",
    "\n",
    "# Create a vector of integers\n",
    "vector = np.array([1, 2, 3, 4, 5])\n",
    "\n",
    "# Convert the vector into a matrix binary representation\n",
    "binary_matrix = np.unpackbits(vector[:, np.newaxis].view(np.uint8), axis=1)\n",
    "\n",
    "print(binary_matrix)\n"
   ]
  },
  {
   "cell_type": "markdown",
   "metadata": {},
   "source": [
    "96. Given a two dimensional array, how to extract unique rows?"
   ]
  },
  {
   "cell_type": "code",
   "execution_count": 61,
   "metadata": {},
   "outputs": [
    {
     "name": "stdout",
     "output_type": "stream",
     "text": [
      "[[1 2 3]\n",
      " [4 5 6]\n",
      " [7 8 9]]\n"
     ]
    }
   ],
   "source": [
    "import numpy as np\n",
    "\n",
    "# Create a two-dimensional array\n",
    "array = np.array([[1, 2, 3], [4, 5, 6], [1, 2, 3], [7, 8, 9]])\n",
    "\n",
    "# Extract unique rows\n",
    "unique_rows = np.unique(array, axis=0)\n",
    "\n",
    "print(unique_rows)\n"
   ]
  },
  {
   "cell_type": "markdown",
   "metadata": {},
   "source": [
    "97. Considering 2 vectors A & B, write the einsum equivalent of inner, outer, sum, and mul function"
   ]
  },
  {
   "cell_type": "code",
   "execution_count": 64,
   "metadata": {},
   "outputs": [
    {
     "name": "stdout",
     "output_type": "stream",
     "text": [
      "Inner product: 32\n",
      "Outer product:\n",
      " [[ 4  5  6]\n",
      " [ 8 10 12]\n",
      " [12 15 18]]\n",
      "Sum: [1 2 3]\n",
      "Element-wise multiplication: [ 4 10 18]\n"
     ]
    }
   ],
   "source": [
    "import numpy as np\n",
    "# Create two vectors A and B\n",
    "A = np.array([1, 2, 3])\n",
    "B = np.array([4, 5, 6])\n",
    "\n",
    "# Einsum equivalent of inner product\n",
    "inner_product = np.einsum('i,i', A, B)\n",
    "\n",
    "# Einsum equivalent of outer product\n",
    "outer_product = np.einsum('i,j->ij', A, B)\n",
    "\n",
    "# Einsum equivalent of sum\n",
    "sum_result = np.einsum('i', A)\n",
    "\n",
    "# Einsum equivalent of element-wise multiplication\n",
    "mul_result = np.einsum('i,i->i', A, B)\n",
    "\n",
    "print(\"Inner product:\", inner_product)\n",
    "print(\"Outer product:\\n\", outer_product)\n",
    "print(\"Sum:\", sum_result)\n",
    "print(\"Element-wise multiplication:\", mul_result)\n"
   ]
  },
  {
   "cell_type": "markdown",
   "metadata": {},
   "source": [
    "98. Considering a path described by two vectors (X,Y), how to sample it using equidistant samples"
   ]
  },
  {
   "cell_type": "code",
   "execution_count": 67,
   "metadata": {},
   "outputs": [
    {
     "name": "stdout",
     "output_type": "stream",
     "text": [
      "Sampled X: [1.         1.44444444 1.88888889 2.33333333 2.77777778 3.22222222\n",
      " 3.66666667 4.11111111 4.55555556 5.        ]\n",
      "Sampled Y: [ 2.          2.88888889  3.77777778  4.66666667  5.55555556  6.44444444\n",
      "  7.33333333  8.22222222  9.11111111 10.        ]\n"
     ]
    }
   ],
   "source": [
    "import numpy as np\n",
    "\n",
    "# Define the X and Y vectors that describe the path\n",
    "X = np.array([1, 2, 3, 4, 5])\n",
    "Y = np.array([2, 4, 6, 8, 10])\n",
    "\n",
    "# Define the number of equidistant samples\n",
    "num_samples = 10\n",
    "\n",
    "# Compute the total length of the path\n",
    "path_length = np.sum(np.sqrt(np.diff(X)**2 + np.diff(Y)**2))\n",
    "\n",
    "# Compute the step size for equidistant sampling\n",
    "step_size = path_length / (num_samples - 1)\n",
    "\n",
    "# Compute the cumulative distance along the path\n",
    "cumulative_distance = np.cumsum(np.sqrt(np.diff(X)**2 + np.diff(Y)**2))\n",
    "cumulative_distance = np.insert(cumulative_distance, 0, 0)\n",
    "\n",
    "# Interpolate the path using equidistant samples\n",
    "sampled_X = np.interp(np.linspace(0, cumulative_distance[-1], num_samples), cumulative_distance, X)\n",
    "sampled_Y = np.interp(np.linspace(0, cumulative_distance[-1], num_samples), cumulative_distance, Y)\n",
    "\n",
    "# Print the sampled X and Y coordinates\n",
    "print(\"Sampled X:\", sampled_X)\n",
    "print(\"Sampled Y:\", sampled_Y)\n"
   ]
  },
  {
   "cell_type": "markdown",
   "metadata": {},
   "source": [
    "99. Given an integer n and a 2D array X, select from X the rows which can be interpreted as draws from a multinomial distribution with n degrees, i.e., the rows which only contain integers and which sum to n"
   ]
  },
  {
   "cell_type": "code",
   "execution_count": 69,
   "metadata": {},
   "outputs": [
    {
     "name": "stdout",
     "output_type": "stream",
     "text": [
      "[[1 2 7]\n",
      " [3 4 3]\n",
      " [5 5 0]\n",
      " [2 3 5]]\n"
     ]
    }
   ],
   "source": [
    "import numpy as np\n",
    "\n",
    "def select_multinomial_rows(n, X):\n",
    "    # Find the rows that contain only integers\n",
    "    integer_rows = np.all(X.astype(int) == X, axis=1)\n",
    "    \n",
    "    # Find the rows that sum to n\n",
    "    sum_rows = np.sum(X, axis=1) == n\n",
    "    \n",
    "    # Select the rows that satisfy both conditions\n",
    "    selected_rows = X[integer_rows & sum_rows]\n",
    "    \n",
    "    return selected_rows\n",
    "\n",
    "# Example usage\n",
    "n = 10\n",
    "X = np.array([[1, 2, 7], [3, 4, 3], [5, 5, 0], [2, 3, 5]])\n",
    "\n",
    "selected_rows = select_multinomial_rows(n, X)\n",
    "print(selected_rows)\n"
   ]
  },
  {
   "cell_type": "markdown",
   "metadata": {},
   "source": [
    "100. Compute bootstrapped 95% confidence intervals for the mean of a 1D array X (i.e., resample the elements of an array with replacement N times, compute the mean of each sample, and then compute percentiles over the means)."
   ]
  },
  {
   "cell_type": "code",
   "execution_count": 70,
   "metadata": {},
   "outputs": [
    {
     "name": "stdout",
     "output_type": "stream",
     "text": [
      "Bootstrapped 95% Confidence Interval for the Mean: (3.7, 7.2)\n"
     ]
    }
   ],
   "source": [
    "import numpy as np\n",
    "\n",
    "def bootstrap_mean_confidence_interval(X, N, alpha=0.05):\n",
    "    # Initialize an array to store the means of the bootstrap samples\n",
    "    bootstrap_means = np.empty(N)\n",
    "    \n",
    "    # Perform bootstrapping\n",
    "    for i in range(N):\n",
    "        # Resample the array with replacement\n",
    "        resampled_X = np.random.choice(X, size=len(X), replace=True)\n",
    "        \n",
    "        # Compute the mean of the resampled array\n",
    "        bootstrap_means[i] = np.mean(resampled_X)\n",
    "    \n",
    "    # Compute the lower and upper percentiles of the bootstrap means\n",
    "    lower_percentile = (alpha / 2) * 100\n",
    "    upper_percentile = (1 - alpha / 2) * 100\n",
    "    lower_bound = np.percentile(bootstrap_means, lower_percentile)\n",
    "    upper_bound = np.percentile(bootstrap_means, upper_percentile)\n",
    "    \n",
    "    return lower_bound, upper_bound\n",
    "\n",
    "# Example usage\n",
    "X = np.array([1, 2, 3, 4, 5, 6, 7, 8, 9, 10])\n",
    "N = 1000\n",
    "alpha = 0.05\n",
    "\n",
    "lower_bound, upper_bound = bootstrap_mean_confidence_interval(X, N, alpha)\n",
    "print(\"Bootstrapped 95% Confidence Interval for the Mean:\", (lower_bound, upper_bound))\n"
   ]
  }
 ],
 "metadata": {
  "kernelspec": {
   "display_name": "arewadatascience",
   "language": "python",
   "name": "python3"
  },
  "language_info": {
   "codemirror_mode": {
    "name": "ipython",
    "version": 3
   },
   "file_extension": ".py",
   "mimetype": "text/x-python",
   "name": "python",
   "nbconvert_exporter": "python",
   "pygments_lexer": "ipython3",
   "version": "3.12.0"
  }
 },
 "nbformat": 4,
 "nbformat_minor": 2
}
